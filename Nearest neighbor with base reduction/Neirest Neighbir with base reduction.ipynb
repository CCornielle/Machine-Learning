{
 "cells": [
  {
   "cell_type": "markdown",
   "metadata": {},
   "source": [
    "#### Neirest Neighbir con reducción de la base\n",
    "Carlos Cornielle"
   ]
  },
  {
   "cell_type": "code",
   "execution_count": 173,
   "metadata": {
    "ExecuteTime": {
     "end_time": "2020-07-06T02:39:36.905544Z",
     "start_time": "2020-07-06T02:39:36.890663Z"
    }
   },
   "outputs": [],
   "source": [
    "import pandas as pd\n",
    "import numpy as np\n",
    "from scipy import linalg\n",
    "import random\n",
    "from scipy.spatial import distance\n",
    "import scipy.spatial\n",
    "from collections import Counter\n",
    "from scipy.stats import norm\n",
    "import random\n",
    "import matplotlib.pyplot as plt\n",
    "from statistics import mode \n",
    "import sys\n",
    "import warnings\n",
    "from matplotlib.pyplot import *"
   ]
  },
  {
   "cell_type": "markdown",
   "metadata": {},
   "source": [
    "Clase para clasificar mediante K-NN"
   ]
  },
  {
   "cell_type": "code",
   "execution_count": 163,
   "metadata": {
    "ExecuteTime": {
     "end_time": "2020-07-06T02:12:11.222401Z",
     "start_time": "2020-07-06T02:12:11.211345Z"
    }
   },
   "outputs": [],
   "source": [
    "class KNN:\n",
    "    def __init__(self, k):\n",
    "        self.k = k\n",
    "            \n",
    "    def predict(self, X_train):\n",
    "        final_output = []\n",
    "        for i in range(len(X_train)):\n",
    "            d = []\n",
    "            votes = []\n",
    "            for j in range(len(z)):\n",
    "                    dist= np.sqrt(np.sum((z[j]-X_train[i])**2).astype(float))\n",
    "                    d.append([dist, j])\n",
    "            d.sort()\n",
    "            d = d[0:self.k]\n",
    "            for d, j in d:\n",
    "                votes.append(z_train[j])\n",
    "            ans = Counter(votes).most_common(1)[0][0]\n",
    "            final_output.append(ans)\n",
    "            \n",
    "        return final_output\n",
    "    \n",
    "    def score(self, X_train, y_train):\n",
    "        predictions = self.predict(X_train)\n",
    "        porcen= (predictions == y_train).sum() / len(y_train)\n",
    "        boleano = predictions == y_train\n",
    "        return porcen,boleano"
   ]
  },
  {
   "cell_type": "markdown",
   "metadata": {},
   "source": [
    "Se importa el data set de MPG"
   ]
  },
  {
   "cell_type": "code",
   "execution_count": 4,
   "metadata": {
    "ExecuteTime": {
     "end_time": "2020-07-05T17:20:05.265712Z",
     "start_time": "2020-07-05T17:20:05.159038Z"
    }
   },
   "outputs": [
    {
     "data": {
      "text/html": [
       "<div>\n",
       "<style scoped>\n",
       "    .dataframe tbody tr th:only-of-type {\n",
       "        vertical-align: middle;\n",
       "    }\n",
       "\n",
       "    .dataframe tbody tr th {\n",
       "        vertical-align: top;\n",
       "    }\n",
       "\n",
       "    .dataframe thead th {\n",
       "        text-align: right;\n",
       "    }\n",
       "</style>\n",
       "<table border=\"1\" class=\"dataframe\">\n",
       "  <thead>\n",
       "    <tr style=\"text-align: right;\">\n",
       "      <th></th>\n",
       "      <th>0</th>\n",
       "      <th>1</th>\n",
       "      <th>2</th>\n",
       "      <th>3</th>\n",
       "      <th>4</th>\n",
       "      <th>5</th>\n",
       "      <th>6</th>\n",
       "      <th>7</th>\n",
       "    </tr>\n",
       "  </thead>\n",
       "  <tbody>\n",
       "    <tr>\n",
       "      <th>0</th>\n",
       "      <td>18.0</td>\n",
       "      <td>8.0</td>\n",
       "      <td>307.0</td>\n",
       "      <td>130.0</td>\n",
       "      <td>3504.0</td>\n",
       "      <td>12.0</td>\n",
       "      <td>70.0</td>\n",
       "      <td>1.0</td>\n",
       "    </tr>\n",
       "    <tr>\n",
       "      <th>1</th>\n",
       "      <td>15.0</td>\n",
       "      <td>8.0</td>\n",
       "      <td>350.0</td>\n",
       "      <td>165.0</td>\n",
       "      <td>3693.0</td>\n",
       "      <td>11.5</td>\n",
       "      <td>70.0</td>\n",
       "      <td>1.0</td>\n",
       "    </tr>\n",
       "    <tr>\n",
       "      <th>2</th>\n",
       "      <td>18.0</td>\n",
       "      <td>8.0</td>\n",
       "      <td>318.0</td>\n",
       "      <td>150.0</td>\n",
       "      <td>3436.0</td>\n",
       "      <td>11.0</td>\n",
       "      <td>70.0</td>\n",
       "      <td>1.0</td>\n",
       "    </tr>\n",
       "    <tr>\n",
       "      <th>3</th>\n",
       "      <td>16.0</td>\n",
       "      <td>8.0</td>\n",
       "      <td>304.0</td>\n",
       "      <td>150.0</td>\n",
       "      <td>3433.0</td>\n",
       "      <td>12.0</td>\n",
       "      <td>70.0</td>\n",
       "      <td>1.0</td>\n",
       "    </tr>\n",
       "    <tr>\n",
       "      <th>4</th>\n",
       "      <td>17.0</td>\n",
       "      <td>8.0</td>\n",
       "      <td>302.0</td>\n",
       "      <td>140.0</td>\n",
       "      <td>3449.0</td>\n",
       "      <td>10.5</td>\n",
       "      <td>70.0</td>\n",
       "      <td>1.0</td>\n",
       "    </tr>\n",
       "    <tr>\n",
       "      <th>...</th>\n",
       "      <td>...</td>\n",
       "      <td>...</td>\n",
       "      <td>...</td>\n",
       "      <td>...</td>\n",
       "      <td>...</td>\n",
       "      <td>...</td>\n",
       "      <td>...</td>\n",
       "      <td>...</td>\n",
       "    </tr>\n",
       "    <tr>\n",
       "      <th>393</th>\n",
       "      <td>27.0</td>\n",
       "      <td>4.0</td>\n",
       "      <td>140.0</td>\n",
       "      <td>86.0</td>\n",
       "      <td>2790.0</td>\n",
       "      <td>15.6</td>\n",
       "      <td>82.0</td>\n",
       "      <td>1.0</td>\n",
       "    </tr>\n",
       "    <tr>\n",
       "      <th>394</th>\n",
       "      <td>44.0</td>\n",
       "      <td>4.0</td>\n",
       "      <td>97.0</td>\n",
       "      <td>52.0</td>\n",
       "      <td>2130.0</td>\n",
       "      <td>24.6</td>\n",
       "      <td>82.0</td>\n",
       "      <td>2.0</td>\n",
       "    </tr>\n",
       "    <tr>\n",
       "      <th>395</th>\n",
       "      <td>32.0</td>\n",
       "      <td>4.0</td>\n",
       "      <td>135.0</td>\n",
       "      <td>84.0</td>\n",
       "      <td>2295.0</td>\n",
       "      <td>11.6</td>\n",
       "      <td>82.0</td>\n",
       "      <td>1.0</td>\n",
       "    </tr>\n",
       "    <tr>\n",
       "      <th>396</th>\n",
       "      <td>28.0</td>\n",
       "      <td>4.0</td>\n",
       "      <td>120.0</td>\n",
       "      <td>79.0</td>\n",
       "      <td>2625.0</td>\n",
       "      <td>18.6</td>\n",
       "      <td>82.0</td>\n",
       "      <td>1.0</td>\n",
       "    </tr>\n",
       "    <tr>\n",
       "      <th>397</th>\n",
       "      <td>31.0</td>\n",
       "      <td>4.0</td>\n",
       "      <td>119.0</td>\n",
       "      <td>82.0</td>\n",
       "      <td>2720.0</td>\n",
       "      <td>19.4</td>\n",
       "      <td>82.0</td>\n",
       "      <td>1.0</td>\n",
       "    </tr>\n",
       "  </tbody>\n",
       "</table>\n",
       "<p>398 rows × 8 columns</p>\n",
       "</div>"
      ],
      "text/plain": [
       "        0    1      2      3       4     5     6    7\n",
       "0    18.0  8.0  307.0  130.0  3504.0  12.0  70.0  1.0\n",
       "1    15.0  8.0  350.0  165.0  3693.0  11.5  70.0  1.0\n",
       "2    18.0  8.0  318.0  150.0  3436.0  11.0  70.0  1.0\n",
       "3    16.0  8.0  304.0  150.0  3433.0  12.0  70.0  1.0\n",
       "4    17.0  8.0  302.0  140.0  3449.0  10.5  70.0  1.0\n",
       "..    ...  ...    ...    ...     ...   ...   ...  ...\n",
       "393  27.0  4.0  140.0   86.0  2790.0  15.6  82.0  1.0\n",
       "394  44.0  4.0   97.0   52.0  2130.0  24.6  82.0  2.0\n",
       "395  32.0  4.0  135.0   84.0  2295.0  11.6  82.0  1.0\n",
       "396  28.0  4.0  120.0   79.0  2625.0  18.6  82.0  1.0\n",
       "397  31.0  4.0  119.0   82.0  2720.0  19.4  82.0  1.0\n",
       "\n",
       "[398 rows x 8 columns]"
      ]
     },
     "execution_count": 4,
     "metadata": {},
     "output_type": "execute_result"
    }
   ],
   "source": [
    "df = pd.read_excel(\"Dataset_MPG1.xlsx\", sheet_name='Dataset_MPG', header = None, dtype = float) # Carga del set de datos\n",
    "df_values= df.values\n",
    "df"
   ]
  },
  {
   "cell_type": "markdown",
   "metadata": {},
   "source": [
    "Se hace una separación de las clases en 10 clases utilizando 10 rangos igualmente espaciados de MPG"
   ]
  },
  {
   "cell_type": "code",
   "execution_count": 5,
   "metadata": {
    "ExecuteTime": {
     "end_time": "2020-07-05T17:20:07.010082Z",
     "start_time": "2020-07-05T17:20:06.989410Z"
    }
   },
   "outputs": [
    {
     "data": {
      "text/plain": [
       "array([ 9.        , 13.17777778, 17.35555556, 21.53333333, 25.71111111,\n",
       "       29.88888889, 34.06666667, 38.24444444, 42.42222222, 46.6       ])"
      ]
     },
     "execution_count": 5,
     "metadata": {},
     "output_type": "execute_result"
    }
   ],
   "source": [
    "df_mpg = df_values[:,0]\n",
    "mpg = df_mpg.copy()\n",
    "mpg_min = min(mpg)\n",
    "mpg_max = max(mpg)\n",
    "grupos = np.linspace(mpg_min,mpg_max,10)\n",
    "grupos"
   ]
  },
  {
   "cell_type": "code",
   "execution_count": 6,
   "metadata": {
    "ExecuteTime": {
     "end_time": "2020-07-05T17:20:08.438662Z",
     "start_time": "2020-07-05T17:20:08.431682Z"
    }
   },
   "outputs": [],
   "source": [
    "mpg[mpg<grupos[1]] =1\n",
    "mpg[np.logical_and(mpg>=grupos[1], mpg<grupos[2])] = 2\n",
    "mpg[np.logical_and(mpg>=grupos[2], mpg<grupos[3])] = 3\n",
    "mpg[np.logical_and(mpg>=grupos[3], mpg<grupos[4])] = 4\n",
    "mpg[np.logical_and(mpg>=grupos[4], mpg<grupos[5])] = 5\n",
    "mpg[np.logical_and(mpg>=grupos[5], mpg<grupos[6])] = 6\n",
    "mpg[np.logical_and(mpg>=grupos[6], mpg<grupos[7])] = 7\n",
    "mpg[np.logical_and(mpg>=grupos[7], mpg<grupos[8])] = 8\n",
    "mpg[np.logical_and(mpg>=grupos[8], mpg<grupos[9])] = 9\n",
    "mpg[mpg>=grupos[9]] = 10"
   ]
  },
  {
   "cell_type": "code",
   "execution_count": 7,
   "metadata": {
    "ExecuteTime": {
     "end_time": "2020-07-05T17:20:08.778545Z",
     "start_time": "2020-07-05T17:20:08.762588Z"
    }
   },
   "outputs": [
    {
     "data": {
      "text/plain": [
       "(398, 8)"
      ]
     },
     "execution_count": 7,
     "metadata": {},
     "output_type": "execute_result"
    }
   ],
   "source": [
    "df_group = df_values.copy()\n",
    "df_features = df_group[:,1:8]\n",
    "df_group[:,0] =mpg\n",
    "df_group.shape"
   ]
  },
  {
   "cell_type": "markdown",
   "metadata": {},
   "source": [
    "Función para realizar la permutación de la data"
   ]
  },
  {
   "cell_type": "code",
   "execution_count": 8,
   "metadata": {
    "ExecuteTime": {
     "end_time": "2020-07-05T17:20:12.362343Z",
     "start_time": "2020-07-05T17:20:12.352364Z"
    }
   },
   "outputs": [],
   "source": [
    "# Funcion para realizar la permutacion de los datos\n",
    "def permutacion(train_size,semilla,f):\n",
    "    np.random.seed(semilla)\n",
    "    idx= np.random.rand(len(df_group))<train_size\n",
    "   \n",
    "    train = df_group[idx]\n",
    "    train= np.array(train)\n",
    "    train_mpg = train[:,0]\n",
    "    train_x= train[:,1:f]\n",
    "    \n",
    "    test = df_group[~idx]\n",
    "    test= np.array(test)\n",
    "    test_mpg = test[:,0]\n",
    "    test_x= test[:,1:f]\n",
    "    \n",
    "    return train_mpg,train_x, test_mpg,test_x,idx"
   ]
  },
  {
   "cell_type": "code",
   "execution_count": 185,
   "metadata": {
    "ExecuteTime": {
     "end_time": "2020-07-06T02:43:31.070963Z",
     "start_time": "2020-07-06T02:43:31.053537Z"
    }
   },
   "outputs": [],
   "source": [
    "train_size= 0.74\n",
    "semilla=500\n",
    "f=8\n",
    "y_train,X_train,y_test,X_test,idx = permutacion(train_size,semilla,f)"
   ]
  },
  {
   "cell_type": "markdown",
   "metadata": {},
   "source": [
    "Después de segmentar los datos en train y test se creará una nueva variable z que corresponderá a la nueva matriz de CNN "
   ]
  },
  {
   "cell_type": "code",
   "execution_count": 186,
   "metadata": {
    "ExecuteTime": {
     "end_time": "2020-07-06T02:43:32.213848Z",
     "start_time": "2020-07-06T02:43:32.202469Z"
    }
   },
   "outputs": [],
   "source": [
    "z=[] #Matriz vacía que va a componer los datos de CNN\n",
    "z_train= [] #Matriz vacía que va a componer los datos de CNN para la variable mpg (objetivo)"
   ]
  },
  {
   "cell_type": "code",
   "execution_count": 187,
   "metadata": {
    "ExecuteTime": {
     "end_time": "2020-07-06T02:43:33.155778Z",
     "start_time": "2020-07-06T02:43:33.134791Z"
    }
   },
   "outputs": [
    {
     "data": {
      "text/plain": [
       "(1,)"
      ]
     },
     "execution_count": 187,
     "metadata": {},
     "output_type": "execute_result"
    }
   ],
   "source": [
    "z= X_train[0,:] # Se pasa la primera fila para comenzar con el cnn\n",
    "z= np.reshape(z, (1, 7)) #Se le da la forma que se desea\n",
    "z_train = y_train[0]\n",
    "z_train= np.reshape(z_train, (1)) #Se le da la forma que se desea\n",
    "z_train.shape"
   ]
  },
  {
   "cell_type": "code",
   "execution_count": 188,
   "metadata": {
    "ExecuteTime": {
     "end_time": "2020-07-06T02:43:33.665652Z",
     "start_time": "2020-07-06T02:43:33.643142Z"
    }
   },
   "outputs": [
    {
     "data": {
      "text/plain": [
       "0.2080536912751678"
      ]
     },
     "execution_count": 188,
     "metadata": {},
     "output_type": "execute_result"
    }
   ],
   "source": [
    "clf = KNN(1) # Primera corrida del algoritmo con un solo valor de Z\n",
    "a,b=clf.score(X_train,y_train)\n",
    "a"
   ]
  },
  {
   "cell_type": "code",
   "execution_count": 200,
   "metadata": {
    "ExecuteTime": {
     "end_time": "2020-07-06T03:11:48.989729Z",
     "start_time": "2020-07-06T03:07:00.924390Z"
    }
   },
   "outputs": [],
   "source": [
    "clf = KNN(1) # Se indica que el K-NN se hara con K=1\n",
    "flag = True # se inicializa el flag\n",
    "i=0 # Se inicializa la variable i\n",
    "\n",
    "while flag: #Mientras el flag sea True el ciclo seguirá ejecuntadose\n",
    "    \n",
    "    a, b=clf.score(X_train,y_train) # Esta funcion realiza el K-NN \n",
    "    if b[i] == False: # si el valor en la posicion i  es false significa que no se clasifico bien \n",
    "        new= X_train[i,:] # Paso la fila de train que fallo al clasificarse\n",
    "        new_y = y_train[i] # Asi como su posicion en y\n",
    "        new= np.reshape(new, (1, 7)) # se le da la forma. 1 fila y 7 columnas\n",
    "        new_y= np.reshape(new_y, (1)) # nos aseguramos de que tenga la forma deseada, un escalar\n",
    "        z= np.concatenate((z, new)) # Se concatena z con la fila que fallo \n",
    "        z_train= np.concatenate((z_train, new_y)) # Se concatena la parte mpg de z con el mpg de la fila que fallo \n",
    "        X_train = np.delete(X_train, i, 0) # Se elimina la fila que fallo del train set\n",
    "        y_train = np.delete(y_train, i, 0) # Se elimina el mpg que fallo del train set\n",
    "        i=0 # se comienza a probar los errores nueva vez\n",
    "    else:\n",
    "        i=i+1 # se aumenta en 1 para seguir analizando las demas posicion\n",
    "    if a == 1.0:\n",
    "        flag = False\n",
    "        \n"
   ]
  },
  {
   "cell_type": "markdown",
   "metadata": {},
   "source": [
    "La matriz \"a\" muestra la tasa de acierto de la matriz z y el train set mientras que la matriz \"b\" es una matriz de true and false que indica que filas fallaron al tratar de clasificarse "
   ]
  },
  {
   "cell_type": "markdown",
   "metadata": {},
   "source": [
    "Se pasa la variable z a z_cnn para guardar estos datos y poder comparar los resultados de su clasificación mas adelante asi como la variable ojetivo que corresponde a las filas utilizadas en z"
   ]
  },
  {
   "cell_type": "code",
   "execution_count": 201,
   "metadata": {
    "ExecuteTime": {
     "end_time": "2020-07-06T03:14:27.199777Z",
     "start_time": "2020-07-06T03:14:27.188806Z"
    }
   },
   "outputs": [
    {
     "data": {
      "text/plain": [
       "1.0"
      ]
     },
     "execution_count": 201,
     "metadata": {},
     "output_type": "execute_result"
    }
   ],
   "source": [
    "a"
   ]
  },
  {
   "cell_type": "code",
   "execution_count": 45,
   "metadata": {
    "ExecuteTime": {
     "end_time": "2020-07-05T23:14:45.656041Z",
     "start_time": "2020-07-05T23:14:45.638448Z"
    }
   },
   "outputs": [],
   "source": [
    "z_cnn = z\n",
    "z_train_cnn = z_train"
   ]
  },
  {
   "cell_type": "markdown",
   "metadata": {},
   "source": [
    "Prueba de este set reducido con el set de pruebas "
   ]
  },
  {
   "cell_type": "code",
   "execution_count": 160,
   "metadata": {
    "ExecuteTime": {
     "end_time": "2020-07-06T02:10:57.318765Z",
     "start_time": "2020-07-06T02:10:57.107613Z"
    }
   },
   "outputs": [
    {
     "data": {
      "text/plain": [
       "0.43"
      ]
     },
     "execution_count": 160,
     "metadata": {},
     "output_type": "execute_result"
    }
   ],
   "source": [
    "z =z_cnn.copy()\n",
    "z_train = z_train_cnn.copy()\n",
    "clf = KNN(11) # Se indica que el K-NN se hara con K=11\n",
    "a, b=clf.score(X_test,y_test) # Esta funcion realiza el K-NN \n",
    "a1=a\n",
    "a1"
   ]
  },
  {
   "cell_type": "markdown",
   "metadata": {},
   "source": [
    "La tasa de aciertos fue de 43%"
   ]
  },
  {
   "cell_type": "markdown",
   "metadata": {
    "ExecuteTime": {
     "end_time": "2020-07-03T18:13:34.793753Z",
     "start_time": "2020-07-03T18:13:34.788765Z"
    }
   },
   "source": [
    "Con otra permutación de elos datos se le pasan los datos obtenidos a una variable para volver a iterar y observar con otra permutación distinta de los datos"
   ]
  },
  {
   "cell_type": "code",
   "execution_count": 36,
   "metadata": {
    "ExecuteTime": {
     "end_time": "2020-07-05T19:40:45.244357Z",
     "start_time": "2020-07-05T19:40:45.240399Z"
    }
   },
   "outputs": [],
   "source": [
    "z_cnn_2 = z\n",
    "z_train_cnn2 = z_train"
   ]
  },
  {
   "cell_type": "code",
   "execution_count": 136,
   "metadata": {
    "ExecuteTime": {
     "end_time": "2020-07-06T01:52:35.675670Z",
     "start_time": "2020-07-06T01:52:35.452747Z"
    }
   },
   "outputs": [
    {
     "data": {
      "text/plain": [
       "0.47"
      ]
     },
     "execution_count": 136,
     "metadata": {},
     "output_type": "execute_result"
    }
   ],
   "source": [
    "z =z_cnn_2.copy()\n",
    "z_train = z_train_cnn2.copy()\n",
    "clf = KNN(11) # Se indica que el K-NN se hara con K=11\n",
    "a, b=clf.score(X_test,y_test) # Esta funcion realiza el K-NN \n",
    "a2=a\n",
    "a2"
   ]
  },
  {
   "cell_type": "markdown",
   "metadata": {
    "ExecuteTime": {
     "end_time": "2020-07-06T01:32:27.157878Z",
     "start_time": "2020-07-06T01:32:27.143915Z"
    }
   },
   "source": [
    "La tasa de aciertos fue de 47%"
   ]
  },
  {
   "cell_type": "markdown",
   "metadata": {
    "ExecuteTime": {
     "end_time": "2020-07-03T22:08:32.190919Z",
     "start_time": "2020-07-03T22:08:32.186052Z"
    }
   },
   "source": [
    "Guardar la otra permutacion"
   ]
  },
  {
   "cell_type": "code",
   "execution_count": 63,
   "metadata": {
    "ExecuteTime": {
     "end_time": "2020-07-06T00:34:53.064402Z",
     "start_time": "2020-07-06T00:34:53.056423Z"
    }
   },
   "outputs": [],
   "source": [
    "z_cnn_3 = z\n",
    "z_train_cnn3 = z_train"
   ]
  },
  {
   "cell_type": "code",
   "execution_count": 137,
   "metadata": {
    "ExecuteTime": {
     "end_time": "2020-07-06T01:52:47.555323Z",
     "start_time": "2020-07-06T01:52:47.310296Z"
    }
   },
   "outputs": [
    {
     "data": {
      "text/plain": [
       "0.36"
      ]
     },
     "execution_count": 137,
     "metadata": {},
     "output_type": "execute_result"
    }
   ],
   "source": [
    "z =z_cnn_3.copy()\n",
    "z_train = z_train_cnn3.copy()\n",
    "clf = KNN(11) # Se indica que el K-NN se hara con K=11\n",
    "a, b=clf.score(X_test,y_test) # Esta funcion realiza el K-NN \n",
    "a3=a\n",
    "a3"
   ]
  },
  {
   "cell_type": "markdown",
   "metadata": {},
   "source": [
    "Se hace otra prueba pero con una menor cantidad de datos en el train set, se obtuvo un se de cnn de 169 filas y este es 100% compatible con el set de train original reducino que es de 299"
   ]
  },
  {
   "cell_type": "code",
   "execution_count": 16,
   "metadata": {
    "ExecuteTime": {
     "end_time": "2020-07-05T17:30:15.550089Z",
     "start_time": "2020-07-05T17:30:15.530459Z"
    }
   },
   "outputs": [
    {
     "data": {
      "text/plain": [
       "(168, 7)"
      ]
     },
     "execution_count": 16,
     "metadata": {},
     "output_type": "execute_result"
    }
   ],
   "source": [
    "z_cnn_4 = z\n",
    "z_train_cnn4 = z_train"
   ]
  },
  {
   "cell_type": "code",
   "execution_count": 139,
   "metadata": {
    "ExecuteTime": {
     "end_time": "2020-07-06T01:53:00.178698Z",
     "start_time": "2020-07-06T01:53:00.017838Z"
    }
   },
   "outputs": [
    {
     "data": {
      "text/plain": [
       "0.41"
      ]
     },
     "execution_count": 139,
     "metadata": {},
     "output_type": "execute_result"
    }
   ],
   "source": [
    "z =z_cnn_4.copy()\n",
    "z_train = z_train_cnn4.copy()\n",
    "clf = KNN(11) # Se indica que el K-NN se hara con K=11\n",
    "a, b=clf.score(X_test,y_test) # Esta funcion realiza el K-NN \n",
    "a4=a\n",
    "a4"
   ]
  },
  {
   "cell_type": "markdown",
   "metadata": {},
   "source": [
    "A pesar de que no se logró una gran reducción esto puede ser de gran ayuda para algoritmos que su eficiencia dependa mucho de la cantidad de datos o features como es el caso de K-NN, observando de que en algunos de los casos además de reducir la cantidad de data del set, se logró mejor estimación utilizando el algoritmo de K-NN debido a que el condensed nearest neighbor busca mantener la información mínima necesaria para clasificar cada una de las clases, esto dependiendo del set que se utilize da reportes como el obtenido en el que la tasa de aciertos aumenta, es normal que en algunas aplicaciones los algoritmos modelen mejor el comportamiento con menos data, ya que cuando se tiene mucha data sin tratar esta puede tener mucha información redudante o innecesaria por lo que el algoritmo también se aprende esta data redudante e innecesaria."
   ]
  },
  {
   "cell_type": "markdown",
   "metadata": {},
   "source": [
    "Comparacion con el set de entrenamiento completo para observar la tasa de aciertos de este con respecto al set de pruebas"
   ]
  },
  {
   "cell_type": "code",
   "execution_count": 121,
   "metadata": {
    "ExecuteTime": {
     "end_time": "2020-07-06T01:44:09.219420Z",
     "start_time": "2020-07-06T01:44:09.201468Z"
    }
   },
   "outputs": [],
   "source": [
    "train_size= 0.734\n",
    "semilla=1001\n",
    "f=8\n",
    "y_train,X_train,y_test,X_test,idx = permutacion(train_size,semilla,f)\n"
   ]
  },
  {
   "cell_type": "code",
   "execution_count": 120,
   "metadata": {
    "ExecuteTime": {
     "end_time": "2020-07-06T01:44:00.864939Z",
     "start_time": "2020-07-06T01:44:00.605184Z"
    }
   },
   "outputs": [
    {
     "data": {
      "text/plain": [
       "0.43"
      ]
     },
     "execution_count": 120,
     "metadata": {},
     "output_type": "execute_result"
    }
   ],
   "source": [
    "z = X_train.copy()\n",
    "z_train = y_train.copy()\n",
    "clf = KNN(11) # Se indica que el K-NN se hara con K=7\n",
    "a, b=clf.score(X_test,y_test) # Esta funcion realiza el K-NN \n",
    "a_orig = a"
   ]
  },
  {
   "cell_type": "markdown",
   "metadata": {},
   "source": [
    "Con la segunda permutación de CNN se consiguió la mayor tasa de aciertos (47%) superando aún el 43% obtenido con todo el set de entrenamiento, gracias a que se eliminó data redudante dentro del set que impedía clasificar de manera correcta parte de la data del set de pruebas."
   ]
  },
  {
   "cell_type": "markdown",
   "metadata": {},
   "source": [
    "Gráfica para mostrar las tasas de acierto de las distintas permutaciones y una versión reducida del train set"
   ]
  },
  {
   "cell_type": "code",
   "execution_count": 204,
   "metadata": {
    "ExecuteTime": {
     "end_time": "2020-07-06T06:48:40.157479Z",
     "start_time": "2020-07-06T06:48:40.037028Z"
    }
   },
   "outputs": [
    {
     "data": {
      "image/png": "[encoded data removed]",
      "text/plain": [
       "<Figure size 432x288 with 1 Axes>"
      ]
     },
     "metadata": {
      "needs_background": "light"
     },
     "output_type": "display_data"
    }
   ],
   "source": [
    "fig, ax = subplots()\n",
    "df_histo = pd.DataFrame({'a':a1, 'a1':a1,'a2':a2, 'a3':a3, 'a4':a4}, index=['Tasa de aciertos'])\n",
    "df_histo.plot(kind='bar', ax=ax)\n",
    "ax.legend([\"Data original\", \"CNN Permu 1\",\"CNN Permu 2\", \"CNN Permu 3\",\"CNN Data train reducida\"],loc=3, fontsize=12);"
   ]
  },
  {
   "cell_type": "markdown",
   "metadata": {},
   "source": [
    "Espacio de memoria ocupado "
   ]
  },
  {
   "cell_type": "code",
   "execution_count": 206,
   "metadata": {
    "ExecuteTime": {
     "end_time": "2020-07-06T07:12:14.562448Z",
     "start_time": "2020-07-06T07:12:14.454886Z"
    }
   },
   "outputs": [
    {
     "name": "stdout",
     "output_type": "stream",
     "text": [
      "__name__ 57\n",
      "__doc__ 113\n",
      "__package__ 16\n",
      "__loader__ 16\n",
      "__spec__ 16\n",
      "__builtin__ 80\n",
      "__builtins__ 80\n",
      "_ih 1928\n",
      "_oh 4704\n",
      "_dh 72\n",
      "In 1928\n",
      "Out 4704\n",
      "get_ipython 64\n",
      "exit 56\n",
      "quit 56\n",
      "_ 32\n",
      "__ 32\n",
      "___ 32\n",
      "_i 145\n",
      "_ii 318\n",
      "_iii 318\n",
      "_i1 82\n",
      "_i2 344\n",
      "pd 80\n",
      "np 80\n",
      "linalg 80\n",
      "random 80\n",
      "distance 80\n",
      "scipy 80\n",
      "Counter 1056\n",
      "norm 56\n",
      "plt 80\n",
      "mode 136\n",
      "time 80\n",
      "timeit 80\n",
      "_i3 856\n",
      "KNN 1056\n",
      "_i4 193\n",
      "df 25624\n",
      "df_values 112\n",
      "_4 25624\n",
      "_i5 178\n",
      "df_mpg 96\n",
      "mpg 3280\n",
      "mpg_min 32\n",
      "mpg_max 32\n",
      "grupos 96\n",
      "_5 96\n",
      "_i6 535\n",
      "_i7 140\n",
      "df_group 25584\n",
      "df_features 112\n",
      "_7 64\n",
      "_i8 487\n",
      "permutacion 136\n",
      "_i9 164\n",
      "train_size 24\n",
      "semilla 28\n",
      "f 28\n",
      "y_train 360\n",
      "X_train 1960\n",
      "y_test 96\n",
      "X_test 112\n",
      "idx 494\n",
      "_9 64\n",
      "_i10 368\n",
      "z 15008\n",
      "z_train 2224\n",
      "_i11 233\n",
      "_11 56\n",
      "_i12 172\n",
      "clf 56\n",
      "a 32\n",
      "b 129\n",
      "end_time 24\n",
      "_12 32\n",
      "_i13 2525\n",
      "flag 24\n",
      "i 28\n",
      "new 112\n",
      "new_y 96\n",
      "_i14 56\n",
      "_14 64\n",
      "_i15 52\n",
      "_15 64\n",
      "_i16 97\n",
      "z_cnn_4 9520\n",
      "z_train_cnn4 1440\n",
      "_16 64\n",
      "_i17 164\n",
      "_17 64\n",
      "_i18 164\n",
      "_18 64\n",
      "_i19 368\n",
      "_i20 233\n",
      "_20 56\n",
      "_i21 172\n",
      "_21 32\n",
      "_i22 2525\n",
      "_i23 56\n",
      "_23 64\n",
      "_i24 52\n",
      "_24 64\n",
      "_i25 80\n",
      "z_cnn 13048\n",
      "z_train_cnn 1944\n",
      "_i26 82\n",
      "_26 32\n",
      "_i27 166\n",
      "_27 64\n",
      "_i28 166\n",
      "_28 64\n",
      "_i29 368\n",
      "_i30 233\n",
      "_30 56\n",
      "_i31 172\n",
      "_31 32\n",
      "_i32 2525\n",
      "_i33 56\n",
      "_33 64\n",
      "_i34 2525\n",
      "_i35 56\n",
      "_35 64\n",
      "_i36 83\n",
      "z_cnn_2 14224\n",
      "z_train_cnn2 2112\n",
      "_i37 62\n",
      "_37 64\n",
      "_i38 164\n",
      "_38 64\n",
      "_i39 368\n",
      "_i40 233\n",
      "_40 56\n",
      "_i41 172\n",
      "_41 32\n",
      "_i42 2525\n",
      "_i43 56\n",
      "_43 64\n",
      "_i44 52\n",
      "_44 64\n",
      "_i45 80\n",
      "_i46 82\n",
      "_46 32\n",
      "_i47 62\n",
      "_i48 62\n",
      "_48 64\n",
      "_i49 62\n",
      "_49 64\n",
      "_i50 62\n",
      "_i51 60\n",
      "_51 64\n",
      "_i52 165\n",
      "_52 64\n",
      "_i53 165\n",
      "_53 64\n",
      "_i54 165\n",
      "_54 64\n",
      "_i55 368\n",
      "_i56 233\n",
      "_56 56\n",
      "_i57 172\n",
      "_57 32\n",
      "_i58 2525\n",
      "_i59 56\n",
      "_59 64\n",
      "_i60 61\n",
      "_i61 62\n",
      "_61 64\n",
      "_i62 62\n",
      "_i63 83\n",
      "z_cnn_3 15008\n",
      "z_train_cnn3 2224\n",
      "_i64 62\n",
      "_64 64\n",
      "_i65 62\n",
      "_65 64\n",
      "_i66 84\n",
      "_66 64\n",
      "_i67 93\n",
      "_i68 155\n",
      "_i69 157\n",
      "_69 32\n",
      "_i70 210\n",
      "_70 32\n",
      "_i71 210\n",
      "_i72 211\n",
      "_i73 211\n",
      "_i74 847\n",
      "_i75 211\n",
      "_i76 211\n",
      "_i77 211\n",
      "_i78 210\n",
      "_78 32\n",
      "_i79 210\n",
      "_i80 210\n",
      "_i81 210\n",
      "_81 32\n",
      "_i82 871\n",
      "_i83 210\n",
      "_83 32\n",
      "_i84 210\n",
      "_84 32\n",
      "_i85 210\n",
      "_85 32\n",
      "_i86 210\n",
      "_86 32\n",
      "_i87 211\n",
      "_87 32\n",
      "_i88 165\n",
      "_88 64\n",
      "_i89 210\n",
      "_89 32\n",
      "_i90 209\n",
      "_90 32\n",
      "_i91 209\n",
      "_91 32\n",
      "_i92 209\n",
      "_92 32\n",
      "_i93 210\n",
      "_93 32\n",
      "_i94 210\n",
      "_94 32\n",
      "_i95 210\n",
      "_95 32\n",
      "_i96 210\n",
      "_96 32\n",
      "_i97 210\n",
      "_97 32\n",
      "_i98 211\n",
      "_98 32\n",
      "_i99 210\n",
      "_99 32\n",
      "_i100 214\n",
      "_100 32\n",
      "_i101 79\n",
      "_i102 215\n",
      "_102 32\n",
      "_i103 215\n",
      "_103 32\n",
      "_i104 56\n",
      "_104 64\n",
      "_i105 229\n",
      "_105 64\n",
      "_i106 215\n",
      "_106 32\n",
      "_i107 215\n",
      "_107 32\n",
      "_i108 215\n",
      "_108 32\n",
      "_i109 165\n",
      "_109 64\n",
      "_i110 210\n",
      "_110 32\n",
      "_i111 165\n",
      "_111 64\n",
      "_i112 210\n",
      "_112 32\n",
      "_i113 167\n",
      "_113 64\n",
      "_i114 210\n",
      "_114 32\n",
      "_i115 165\n",
      "_115 64\n",
      "_i116 210\n",
      "_116 32\n",
      "_i117 166\n",
      "_117 64\n",
      "_i118 210\n",
      "_118 32\n",
      "_i119 167\n",
      "_119 64\n",
      "_i120 210\n",
      "_120 32\n",
      "_i121 153\n",
      "_i122 151\n",
      "_i123 211\n",
      "_123 32\n",
      "_i124 211\n",
      "_124 32\n",
      "_i125 211\n",
      "_125 32\n",
      "_i126 212\n",
      "_126 32\n",
      "_i127 212\n",
      "_127 32\n",
      "_i128 212\n",
      "_128 32\n",
      "_i129 215\n",
      "_129 32\n",
      "_i130 215\n",
      "_130 32\n",
      "_i131 215\n",
      "a1 32\n",
      "_i132 218\n",
      "_132 28\n",
      "_i133 218\n",
      "_133 32\n",
      "_i134 215\n",
      "_i135 218\n",
      "_135 32\n",
      "_i136 221\n",
      "a2 32\n",
      "_136 32\n",
      "_i137 221\n",
      "a3 32\n",
      "_137 32\n",
      "_i138 221\n",
      "a4 32\n",
      "_138 32\n",
      "_i139 221\n",
      "_139 32\n",
      "_i140 403\n",
      "x 104\n",
      "labels 104\n",
      "_i141 673\n",
      "_i142 350\n",
      "functools 80\n",
      "importlib 80\n",
      "inspect 80\n",
      "logging 80\n",
      "Number 888\n",
      "re 80\n",
      "sys 80\n",
      "cycler 136\n",
      "matplotlib 80\n",
      "rcsetup 80\n",
      "style 80\n",
      "interactive 136\n",
      "cbook 80\n",
      "dedent 136\n",
      "deprecated 136\n",
      "silent_list 1056\n",
      "warn_deprecated 136\n",
      "docstring 80\n",
      "FigureCanvasBase 1464\n",
      "Figure 888\n",
      "figaspect 136\n",
      "GridSpec 1464\n",
      "rcParams 9336\n",
      "rcParamsDefault 9336\n",
      "get_backend 136\n",
      "rcParamsOrig 9336\n",
      "rc_context 136\n",
      "getp 136\n",
      "get 136\n",
      "Artist 1056\n",
      "Axes 1056\n",
      "Subplot 5520\n",
      "PolarAxes 1056\n",
      "mlab 80\n",
      "get_scale_docs 136\n",
      "get_scale_names 136\n",
      "cm 80\n",
      "get_cmap 136\n",
      "register_cmap 136\n",
      "Normalize 1056\n",
      "Line2D 888\n",
      "Text 3096\n",
      "Annotation 1056\n",
      "Polygon 1056\n",
      "Rectangle 3096\n",
      "Circle 1056\n",
      "Arrow 1056\n",
      "SubplotTool 1056\n",
      "Button 1056\n",
      "Slider 1056\n",
      "Widget 1056\n",
      "TickHelper 1056\n",
      "Formatter 1056\n",
      "FixedFormatter 1056\n",
      "NullFormatter 1056\n",
      "FuncFormatter 1056\n",
      "FormatStrFormatter 1056\n",
      "ScalarFormatter 1464\n",
      "LogFormatter 1056\n",
      "LogFormatterExponent 1056\n",
      "LogFormatterMathtext 1056\n",
      "Locator 1056\n",
      "IndexLocator 1056\n",
      "FixedLocator 1056\n",
      "NullLocator 1056\n",
      "LinearLocator 1056\n",
      "LogLocator 1056\n",
      "AutoLocator 1184\n",
      "MultipleLocator 1056\n",
      "MaxNLocator 1056\n",
      "pylab_setup 136\n",
      "install_repl_displayhook 136\n",
      "uninstall_repl_displayhook 136\n",
      "draw_all 64\n",
      "set_loglevel 136\n",
      "findobj 136\n",
      "switch_backend 136\n",
      "show 136\n",
      "isinteractive 136\n",
      "ioff 136\n",
      "ion 136\n",
      "pause 136\n",
      "rc 136\n",
      "rcdefaults 136\n",
      "gci 136\n",
      "setp 136\n",
      "xkcd 136\n",
      "figure 136\n",
      "gcf 136\n",
      "fignum_exists 136\n",
      "get_fignums 136\n",
      "get_figlabels 136\n",
      "get_current_fig_manager 136\n",
      "connect 136\n",
      "disconnect 136\n",
      "close 136\n",
      "draw 136\n",
      "savefig 136\n",
      "ginput 136\n",
      "waitforbuttonpress 136\n",
      "figtext 136\n",
      "suptitle 136\n",
      "figimage 136\n",
      "figlegend 136\n",
      "axes 136\n",
      "delaxes 136\n",
      "sca 136\n",
      "gca 136\n",
      "subplot 136\n",
      "subplots 136\n",
      "subplot2grid 136\n",
      "twinx 136\n",
      "twiny 136\n",
      "subplots_adjust 136\n",
      "subplot_tool 136\n",
      "tight_layout 136\n",
      "box 136\n",
      "xlim 136\n",
      "ylim 136\n",
      "xticks 136\n",
      "yticks 136\n",
      "rgrids 136\n",
      "thetagrids 136\n",
      "plotting 136\n",
      "get_plot_commands 136\n",
      "colormaps 136\n",
      "colorbar 136\n",
      "clim 136\n",
      "set_cmap 136\n",
      "imread 136\n",
      "imsave 136\n",
      "matshow 136\n",
      "polar 136\n",
      "plotfile 136\n",
      "new_figure_manager 64\n",
      "draw_if_interactive 136\n",
      "acorr 136\n",
      "angle_spectrum 136\n",
      "annotate 136\n",
      "arrow 136\n",
      "autoscale 136\n",
      "axhline 136\n",
      "axhspan 136\n",
      "axis 136\n",
      "axvline 136\n",
      "axvspan 136\n",
      "bar 136\n",
      "barbs 136\n",
      "barh 136\n",
      "boxplot 136\n",
      "broken_barh 136\n",
      "cla 136\n",
      "clabel 136\n",
      "cohere 136\n",
      "contour 136\n",
      "contourf 136\n",
      "csd 136\n",
      "errorbar 136\n",
      "eventplot 136\n",
      "fill 136\n",
      "fill_between 136\n",
      "fill_betweenx 136\n",
      "grid 136\n",
      "hexbin 136\n",
      "hist 136\n",
      "hist2d 136\n",
      "hlines 136\n",
      "imshow 136\n",
      "legend 136\n",
      "locator_params 136\n",
      "loglog 136\n",
      "magnitude_spectrum 136\n",
      "margins 136\n",
      "minorticks_off 136\n",
      "minorticks_on 136\n",
      "pcolor 136\n",
      "pcolormesh 136\n",
      "phase_spectrum 136\n",
      "pie 136\n",
      "plot 136\n",
      "plot_date 136\n",
      "psd 136\n",
      "quiver 136\n",
      "quiverkey 136\n",
      "scatter 136\n",
      "semilogx 136\n",
      "semilogy 136\n",
      "specgram 136\n",
      "spy 136\n",
      "stackplot 136\n",
      "stem 136\n",
      "step 136\n",
      "streamplot 136\n",
      "table 136\n",
      "text 136\n",
      "tick_params 136\n",
      "ticklabel_format 136\n",
      "tricontour 136\n",
      "tricontourf 136\n",
      "tripcolor 136\n",
      "triplot 136\n",
      "violinplot 136\n",
      "vlines 136\n",
      "xcorr 136\n",
      "sci 136\n",
      "title 136\n",
      "xlabel 136\n",
      "ylabel 136\n",
      "xscale 136\n",
      "yscale 136\n",
      "autumn 136\n",
      "bone 136\n",
      "cool 136\n",
      "copper 136\n",
      "gray 136\n",
      "hot 136\n",
      "hsv 136\n",
      "jet 136\n",
      "pink 136\n",
      "prism 136\n",
      "spring 136\n",
      "summer 136\n",
      "winter 136\n",
      "magma 136\n",
      "inferno 136\n",
      "plasma 136\n",
      "viridis 136\n",
      "nipy_spectral 136\n",
      "_i143 184\n",
      "fig 56\n",
      "ax 56\n",
      "df_histo 171\n",
      "_i144 193\n",
      "_i145 209\n",
      "_i146 184\n",
      "_i147 185\n",
      "_i148 184\n",
      "_i149 184\n",
      "_i150 201\n",
      "_i151 210\n",
      "_i152 220\n",
      "_i153 243\n",
      "_i154 292\n",
      "_i155 311\n",
      "_i156 317\n",
      "_i157 317\n",
      "_i158 2525\n",
      "_i159 218\n",
      "_159 32\n",
      "_i160 218\n",
      "_160 32\n",
      "_i161 879\n",
      "_i162 2525\n",
      "_i163 880\n",
      "_i164 2525\n",
      "_i165 145\n",
      "local_vars 5800\n",
      "var 54\n",
      "obj 145\n",
      "_i166 417\n",
      "_i167 385\n",
      "_i168 345\n",
      "warnings 80\n",
      "_i169 80\n",
      "_i170 2525\n",
      "_i171 82\n",
      "_i172 2525\n",
      "_i173 377\n",
      "_i174 317\n",
      "_i175 54\n",
      "_175 32\n",
      "_i176 2525\n",
      "_i177 54\n",
      "_177 32\n",
      "_i178 2525\n",
      "_i179 52\n",
      "_179 64\n",
      "_i180 52\n",
      "_180 64\n",
      "_i181 54\n",
      "_181 32\n",
      "_i182 2525\n",
      "_i183 54\n",
      "_183 32\n",
      "_i184 54\n",
      "_184 32\n",
      "_i185 151\n",
      "_i186 368\n",
      "_i187 273\n",
      "_187 56\n",
      "_i188 149\n",
      "_188 32\n",
      "_i189 2525\n",
      "_i190 54\n",
      "_190 32\n",
      "_i191 2525\n",
      "_i192 54\n",
      "_192 32\n",
      "_i193 2525\n",
      "_i194 54\n",
      "_194 32\n",
      "_i195 2525\n",
      "_i196 54\n",
      "_196 32\n",
      "_i197 54\n",
      "_197 32\n",
      "_i198 2525\n",
      "_i199 54\n",
      "_199 32\n",
      "_i200 2525\n",
      "_i201 54\n",
      "_201 32\n",
      "_i202 145\n",
      "_i203 318\n",
      "_i204 318\n",
      "_i205 145\n",
      "_i206 147\n"
     ]
    }
   ],
   "source": [
    "local_vars = list(locals().items())\n",
    "for var, obj in local_vars:\n",
    "    print(var, sys.getsizeof(obj))"
   ]
  }
 ],
 "metadata": {
  "kernelspec": {
   "display_name": "Python 3",
   "language": "python",
   "name": "python3"
  },
  "language_info": {
   "codemirror_mode": {
    "name": "ipython",
    "version": 3
   },
   "file_extension": ".py",
   "mimetype": "text/x-python",
   "name": "python",
   "nbconvert_exporter": "python",
   "pygments_lexer": "ipython3",
   "version": "3.7.6"
  },
  "toc": {
   "base_numbering": 1,
   "nav_menu": {},
   "number_sections": true,
   "sideBar": true,
   "skip_h1_title": false,
   "title_cell": "Table of Contents",
   "title_sidebar": "Contents",
   "toc_cell": false,
   "toc_position": {},
   "toc_section_display": true,
   "toc_window_display": false
  },
  "widgets": {
   "application/vnd.jupyter.widget-state+json": {
    "state": {},
    "version_major": 2,
    "version_minor": 0
   }
  }
 },
 "nbformat": 4,
 "nbformat_minor": 4
}
