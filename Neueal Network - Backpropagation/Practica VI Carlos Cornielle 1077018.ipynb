{
 "cells": [
  {
   "cell_type": "code",
   "execution_count": 1,
   "metadata": {},
   "outputs": [],
   "source": [
    "import pandas as pd\n",
    "import numpy as np\n",
    "import matplotlib.pyplot as plt\n",
    "\n",
    "#Este programa contara con muchos comentarios para facilitar su comprension y calculo en cada paso"
   ]
  },
  {
   "cell_type": "code",
   "execution_count": 2,
   "metadata": {},
   "outputs": [],
   "source": [
    "df = pd.read_excel(\"Dataset_MPG2.xlsx\", sheet_name='Dataset_MPG', header = None, dtype = float) # Carga del set de datos\n",
    "df_values= df.values #se convierte de dataframe a un array\n",
    "\n",
    "df_group = df_values.copy() \n",
    "mpg = df_values[:,0] # se separa la variable a predecir\n",
    "features_x = df_values[:,1:8] # Los 7 features usados para predecir\n",
    "p_exactitud_nn = [] #Variable para presentar los errores\n",
    "acu = [] #Variable para acumular los errores calculados"
   ]
  },
  {
   "cell_type": "code",
   "execution_count": 3,
   "metadata": {},
   "outputs": [],
   "source": [
    "# Funcion para realizar la permutacion de los datos\n",
    "def permutacion(train_size,semilla,f):\n",
    "    np.random.seed(semilla)\n",
    "    idx= np.random.rand(len(df_group))<train_size\n",
    "   \n",
    "    train = df_group[idx]\n",
    "    train= np.array(train)\n",
    "    train_mpg = train[:,0]\n",
    "    train_x= train[:,1:f]\n",
    "    \n",
    "    test = df_group[~idx]\n",
    "    test= np.array(test)\n",
    "    test_mpg = test[:,0]\n",
    "    test_x= test[:,1:f]\n",
    "    \n",
    "    return train_mpg,train_x, test_mpg,test_x,idx"
   ]
  },
  {
   "cell_type": "code",
   "execution_count": 4,
   "metadata": {},
   "outputs": [],
   "source": [
    "#Para crear la permutacion y separar entre la data de entrenamiento y la de test\n",
    "train_size= 0.733\n",
    "semilla=8\n",
    "f=8\n",
    "y_train,X_train,y_test,X_test,idx = permutacion(train_size,semilla,f)\n",
    "y_test= y_test.reshape(-1,1)"
   ]
  },
  {
   "cell_type": "code",
   "execution_count": 5,
   "metadata": {},
   "outputs": [
    {
     "data": {
      "text/plain": [
       "(299, 1)"
      ]
     },
     "execution_count": 5,
     "metadata": {},
     "output_type": "execute_result"
    }
   ],
   "source": [
    "X= np.array(X_train,dtype=float) #Variable que contendra los 7 features y las 392 muestras\n",
    "y= np.array(y_train,dtype = float) #Data a predecir con 392 muestras\n",
    "y= y.reshape(-1,1) # se asegura que tenga la forma 392x1 para evitar problemas\n",
    "# Se escalan las unidades para que queden entre 0-1 y no se cree un sesgo por la escala de estas\n",
    "X = X/np.amax(X, axis=0) #se escala dividiendo entre el mayor\n",
    "y = y/np.amax(y, axis=0) # igual se escala dividiendo entre el mayor\n",
    "y.shape"
   ]
  },
  {
   "cell_type": "code",
   "execution_count": 6,
   "metadata": {},
   "outputs": [],
   "source": [
    "class red_neuronal(object): # Se crea una clase para facilitar la aplicación dentro tiene las distintas funciones que se necesitan\n",
    "    def __init__(self): # self sera una función dentro de las demas para evitar la iteración de calcular los pesos en cada una\n",
    "        \n",
    "        #parametros iniciales de las capas de la red\n",
    "        self.inputSize = 7 # se indica que la capa inicial (entradas) tiene un tamaño de 7\n",
    "        self.hiddenSize = 3 # se indica que la capa oculta es de 7\n",
    "        self.outputSize = 1 # capa de salida de 1\n",
    "        \n",
    "        #calculo de los pesos\n",
    "        self.W1 = np.random.randn(self.inputSize, self.hiddenSize) # (7x3) matriz de pesos del input a la capa oculta\n",
    "        self.W2 = np.random.randn(self.hiddenSize, self.outputSize) # (3x1) matriz de pesos de la capa oculta a la salida\n",
    "  #--------------------------------------------------------------------------------------------------------------------------      \n",
    "    def feedForward(self, X): #se hace el forward propagation en la red\n",
    "        \n",
    "        self.z = np.dot(X, self.W1) #producto punto entre X (392x7) y el primer set de pesos (7x3)\n",
    "        self.z2 = self.sigmoid(self.z) #se hace la derivacion para este caso se decidio usar sigmoid ,(392x3) \n",
    "        self.z3 = np.dot(self.z2, self.W2) #se realiza el producto punto de la capa oculta resultante (z2) 392x3 y el segundo set de pesos (3x1)\n",
    "        resultado = self.sigmoid(self.z3) # (392x1) # se hace la derivacion con sigmoid de la salida de la red\n",
    "        return resultado\n",
    "     #--------------------------------------------------------------------------------------------------------------------------      \n",
    "    def sigmoid(self, s, deriv=False): # funcion sigmoid si se indica deriv = True se ealizara la derivacion utilizando la formula correspondiente\n",
    "        if (deriv == True):\n",
    "            return s * (1 - s) # en caso de que se derive se aplica esta formula que es la derivacion\n",
    "        return 1/(1 + np.exp(-s)) # 1/1+e^-s\n",
    "     #--------------------------------------------------------------------------------------------------------------------------  \n",
    "    def backward(self, X, y, resultado): #funcion para hacer el backward propagation de la red y hacer que esta aprenda\n",
    "\n",
    "        self.resultado_error = y - resultado # error in output (392x1) - (392x1) = (392x1), se resta el mpg real con el calculado para determinar las diferencias\n",
    "        self.resultado_grad = self.resultado_error * self.sigmoid(resultado, deriv=True) #(392x1) *(392x1) = 392x1 se deriva utilizando sigmoid esas diferencias determinadas\n",
    "      #--------------------------------------------------------------------------------------------------------------------------     \n",
    "        self.z2_error = self.resultado_grad.dot(self.W2.T) # 392x1 *1x3 = 392x3 a partir de ese error entre los outputs se ajustara para la capa oculta \n",
    "        self.z2_grad = self.z2_error * self.sigmoid(self.z2, deriv=True) #el error determinado al comparar la salida y derivarse, despues se hace para la capa oculta\n",
    "      #--------------------------------------------------------------------------------------------------------------------------   \n",
    "        self.W1 += X.T.dot(self.z2_grad) # se ajusta el primer set de pesos, en este caso el que va de la entrada a la capa oculta\n",
    "        self.W2 += self.z2.T.dot(self.resultado_grad) # se ajusta el segundo set de pesos, el que va de la capa oculta a la salida\n",
    "        \n",
    "    def train(self, X, y): # se realiza una funcion que incluya a las demas para solo deliminar la entrada y la data a estimar\n",
    "        resultado = self.feedForward(X) # Se realiza la estimacion con la red neuronal a partir de la data X\n",
    "        self.backward(X, y, resultado) # Se ajusta utilizando backward propagation comparando con la data original\n",
    "       #--------------------------------------------------------------------------------------------------------------------------    \n",
    "red = red_neuronal() \n",
    "\n",
    "for i in range(500): #Se entrena la red neuronal la cantidad de veces especificada, en este caso 500 veces\n",
    "\n",
    "    acu=(np.mean(np.square(y - red.feedForward(X))))\n",
    "    p_exactitud_nn.append(acu)\n",
    "    red.train(X, y)\n",
    "        \n"
   ]
  },
  {
   "cell_type": "code",
   "execution_count": 7,
   "metadata": {},
   "outputs": [],
   "source": [
    "# Mediante la gráfica se conocerá el comportamiento de la red\n",
    "grupos = np.linspace(1,500,500)"
   ]
  },
  {
   "cell_type": "code",
   "execution_count": 8,
   "metadata": {},
   "outputs": [
    {
     "data": {
      "text/plain": [
       "[<matplotlib.lines.Line2D at 0x1fd982f2248>]"
      ]
     },
     "execution_count": 8,
     "metadata": {},
     "output_type": "execute_result"
    },
    {
     "data": {
      "image/png": "[encoded data removed]",
      "text/plain": [
       "<Figure size 432x288 with 1 Axes>"
      ]
     },
     "metadata": {
      "needs_background": "light"
     },
     "output_type": "display_data"
    }
   ],
   "source": [
    "fig = plt.figure()\n",
    "ax1 = fig.add_subplot(111)\n",
    "ax1.set_ylabel('Error cuadrado promedio')\n",
    "ax1.set_xlabel('Epoch')\n",
    "ax1.set_title('Error determinado')\n",
    "plt.plot(grupos,p_exactitud_nn)"
   ]
  },
  {
   "cell_type": "code",
   "execution_count": null,
   "metadata": {},
   "outputs": [],
   "source": []
  }
 ],
 "metadata": {
  "kernelspec": {
   "display_name": "Python 3",
   "language": "python",
   "name": "python3"
  },
  "language_info": {
   "codemirror_mode": {
    "name": "ipython",
    "version": 3
   },
   "file_extension": ".py",
   "mimetype": "text/x-python",
   "name": "python",
   "nbconvert_exporter": "python",
   "pygments_lexer": "ipython3",
   "version": "3.7.6"
  }
 },
 "nbformat": 4,
 "nbformat_minor": 4
}
