{
 "cells": [
  {
   "cell_type": "markdown",
   "metadata": {},
   "source": [
    "# Ejercicio IV Subset selection"
   ]
  },
  {
   "cell_type": "markdown",
   "metadata": {},
   "source": [
    "Se el aplicará subset selection, tanto el forward como con el backward selection a la data MPG clasificación. Analizar y comparar resultados usando todos los features y las versiones reducidas.\n",
    "\n",
    "Carlos Cornielle - 1077018"
   ]
  },
  {
   "cell_type": "markdown",
   "metadata": {},
   "source": [
    "El algoritmo utilizado para probar tanto el Forward como el Backward Selection fue el KNN-Clasificación para el Data set de MPG"
   ]
  },
  {
   "cell_type": "markdown",
   "metadata": {},
   "source": [
    "Primero se analizará usando todos los features"
   ]
  },
  {
   "cell_type": "code",
   "execution_count": 45,
   "metadata": {
    "ExecuteTime": {
     "end_time": "2020-07-06T23:29:01.664012Z",
     "start_time": "2020-07-06T23:29:01.645063Z"
    }
   },
   "outputs": [],
   "source": [
    "import pandas as pd\n",
    "import numpy as np\n",
    "from scipy import linalg\n",
    "import random\n",
    "from scipy.spatial import distance\n",
    "import scipy.spatial\n",
    "from collections import Counter\n",
    "from scipy.stats import norm\n",
    "import random\n",
    "import matplotlib.pyplot as plt\n",
    "from statistics import mode \n",
    "import sys\n",
    "import itertools\n",
    "from matplotlib.pyplot import *"
   ]
  },
  {
   "cell_type": "code",
   "execution_count": 2,
   "metadata": {
    "ExecuteTime": {
     "end_time": "2020-07-06T16:44:04.786322Z",
     "start_time": "2020-07-06T16:44:04.738181Z"
    }
   },
   "outputs": [],
   "source": [
    "class KNN:\n",
    "    def __init__(self, k):\n",
    "        self.k = k\n",
    "            \n",
    "    def predict(self, X_test):\n",
    "        final_output = []\n",
    "        for i in range(len(X_test)):\n",
    "            d = []\n",
    "            votes = []\n",
    "            for j in range(len(X_train)):\n",
    "                    dist= np.sqrt(np.sum((X_train[j]-X_test[i])**2).astype(float))\n",
    "                    d.append([dist, j])\n",
    "            d.sort()\n",
    "            d = d[0:self.k]\n",
    "            for d, j in d:\n",
    "                votes.append(y_train[j])\n",
    "            ans = Counter(votes).most_common(1)[0][0]\n",
    "            final_output.append(ans)\n",
    "            \n",
    "        return final_output\n",
    "    \n",
    "    def score(self, X_test, y_test):\n",
    "        predictions = self.predict(X_test)\n",
    "        return (predictions == y_test).sum() / len(y_test)"
   ]
  },
  {
   "cell_type": "markdown",
   "metadata": {
    "ExecuteTime": {
     "end_time": "2020-07-03T21:13:33.290952Z",
     "start_time": "2020-07-03T21:13:33.286963Z"
    }
   },
   "source": [
    "Se importa el data set de MPG"
   ]
  },
  {
   "cell_type": "code",
   "execution_count": 3,
   "metadata": {
    "ExecuteTime": {
     "end_time": "2020-07-06T16:44:04.877072Z",
     "start_time": "2020-07-06T16:44:04.786322Z"
    }
   },
   "outputs": [
    {
     "data": {
      "text/html": [
       "<div>\n",
       "<style scoped>\n",
       "    .dataframe tbody tr th:only-of-type {\n",
       "        vertical-align: middle;\n",
       "    }\n",
       "\n",
       "    .dataframe tbody tr th {\n",
       "        vertical-align: top;\n",
       "    }\n",
       "\n",
       "    .dataframe thead th {\n",
       "        text-align: right;\n",
       "    }\n",
       "</style>\n",
       "<table border=\"1\" class=\"dataframe\">\n",
       "  <thead>\n",
       "    <tr style=\"text-align: right;\">\n",
       "      <th></th>\n",
       "      <th>0</th>\n",
       "      <th>1</th>\n",
       "      <th>2</th>\n",
       "      <th>3</th>\n",
       "      <th>4</th>\n",
       "      <th>5</th>\n",
       "      <th>6</th>\n",
       "      <th>7</th>\n",
       "    </tr>\n",
       "  </thead>\n",
       "  <tbody>\n",
       "    <tr>\n",
       "      <th>0</th>\n",
       "      <td>18.0</td>\n",
       "      <td>8.0</td>\n",
       "      <td>307.0</td>\n",
       "      <td>130.0</td>\n",
       "      <td>3504.0</td>\n",
       "      <td>12.0</td>\n",
       "      <td>70.0</td>\n",
       "      <td>1.0</td>\n",
       "    </tr>\n",
       "    <tr>\n",
       "      <th>1</th>\n",
       "      <td>15.0</td>\n",
       "      <td>8.0</td>\n",
       "      <td>350.0</td>\n",
       "      <td>165.0</td>\n",
       "      <td>3693.0</td>\n",
       "      <td>11.5</td>\n",
       "      <td>70.0</td>\n",
       "      <td>1.0</td>\n",
       "    </tr>\n",
       "    <tr>\n",
       "      <th>2</th>\n",
       "      <td>18.0</td>\n",
       "      <td>8.0</td>\n",
       "      <td>318.0</td>\n",
       "      <td>150.0</td>\n",
       "      <td>3436.0</td>\n",
       "      <td>11.0</td>\n",
       "      <td>70.0</td>\n",
       "      <td>1.0</td>\n",
       "    </tr>\n",
       "    <tr>\n",
       "      <th>3</th>\n",
       "      <td>16.0</td>\n",
       "      <td>8.0</td>\n",
       "      <td>304.0</td>\n",
       "      <td>150.0</td>\n",
       "      <td>3433.0</td>\n",
       "      <td>12.0</td>\n",
       "      <td>70.0</td>\n",
       "      <td>1.0</td>\n",
       "    </tr>\n",
       "    <tr>\n",
       "      <th>4</th>\n",
       "      <td>17.0</td>\n",
       "      <td>8.0</td>\n",
       "      <td>302.0</td>\n",
       "      <td>140.0</td>\n",
       "      <td>3449.0</td>\n",
       "      <td>10.5</td>\n",
       "      <td>70.0</td>\n",
       "      <td>1.0</td>\n",
       "    </tr>\n",
       "    <tr>\n",
       "      <th>...</th>\n",
       "      <td>...</td>\n",
       "      <td>...</td>\n",
       "      <td>...</td>\n",
       "      <td>...</td>\n",
       "      <td>...</td>\n",
       "      <td>...</td>\n",
       "      <td>...</td>\n",
       "      <td>...</td>\n",
       "    </tr>\n",
       "    <tr>\n",
       "      <th>393</th>\n",
       "      <td>27.0</td>\n",
       "      <td>4.0</td>\n",
       "      <td>140.0</td>\n",
       "      <td>86.0</td>\n",
       "      <td>2790.0</td>\n",
       "      <td>15.6</td>\n",
       "      <td>82.0</td>\n",
       "      <td>1.0</td>\n",
       "    </tr>\n",
       "    <tr>\n",
       "      <th>394</th>\n",
       "      <td>44.0</td>\n",
       "      <td>4.0</td>\n",
       "      <td>97.0</td>\n",
       "      <td>52.0</td>\n",
       "      <td>2130.0</td>\n",
       "      <td>24.6</td>\n",
       "      <td>82.0</td>\n",
       "      <td>2.0</td>\n",
       "    </tr>\n",
       "    <tr>\n",
       "      <th>395</th>\n",
       "      <td>32.0</td>\n",
       "      <td>4.0</td>\n",
       "      <td>135.0</td>\n",
       "      <td>84.0</td>\n",
       "      <td>2295.0</td>\n",
       "      <td>11.6</td>\n",
       "      <td>82.0</td>\n",
       "      <td>1.0</td>\n",
       "    </tr>\n",
       "    <tr>\n",
       "      <th>396</th>\n",
       "      <td>28.0</td>\n",
       "      <td>4.0</td>\n",
       "      <td>120.0</td>\n",
       "      <td>79.0</td>\n",
       "      <td>2625.0</td>\n",
       "      <td>18.6</td>\n",
       "      <td>82.0</td>\n",
       "      <td>1.0</td>\n",
       "    </tr>\n",
       "    <tr>\n",
       "      <th>397</th>\n",
       "      <td>31.0</td>\n",
       "      <td>4.0</td>\n",
       "      <td>119.0</td>\n",
       "      <td>82.0</td>\n",
       "      <td>2720.0</td>\n",
       "      <td>19.4</td>\n",
       "      <td>82.0</td>\n",
       "      <td>1.0</td>\n",
       "    </tr>\n",
       "  </tbody>\n",
       "</table>\n",
       "<p>398 rows × 8 columns</p>\n",
       "</div>"
      ],
      "text/plain": [
       "        0    1      2      3       4     5     6    7\n",
       "0    18.0  8.0  307.0  130.0  3504.0  12.0  70.0  1.0\n",
       "1    15.0  8.0  350.0  165.0  3693.0  11.5  70.0  1.0\n",
       "2    18.0  8.0  318.0  150.0  3436.0  11.0  70.0  1.0\n",
       "3    16.0  8.0  304.0  150.0  3433.0  12.0  70.0  1.0\n",
       "4    17.0  8.0  302.0  140.0  3449.0  10.5  70.0  1.0\n",
       "..    ...  ...    ...    ...     ...   ...   ...  ...\n",
       "393  27.0  4.0  140.0   86.0  2790.0  15.6  82.0  1.0\n",
       "394  44.0  4.0   97.0   52.0  2130.0  24.6  82.0  2.0\n",
       "395  32.0  4.0  135.0   84.0  2295.0  11.6  82.0  1.0\n",
       "396  28.0  4.0  120.0   79.0  2625.0  18.6  82.0  1.0\n",
       "397  31.0  4.0  119.0   82.0  2720.0  19.4  82.0  1.0\n",
       "\n",
       "[398 rows x 8 columns]"
      ]
     },
     "execution_count": 3,
     "metadata": {},
     "output_type": "execute_result"
    }
   ],
   "source": [
    "df = pd.read_excel(\"Dataset_MPG1.xlsx\", sheet_name='Dataset_MPG', header = None, dtype = float) # Carga del set de datos\n",
    "df_values= df.values\n",
    "df"
   ]
  },
  {
   "cell_type": "markdown",
   "metadata": {},
   "source": [
    "Se hace una separación de las clases en 10 clases utilizando 10 rangos igualmente espaciados de MPG"
   ]
  },
  {
   "cell_type": "code",
   "execution_count": 4,
   "metadata": {
    "ExecuteTime": {
     "end_time": "2020-07-06T16:44:04.893071Z",
     "start_time": "2020-07-06T16:44:04.877072Z"
    }
   },
   "outputs": [
    {
     "data": {
      "text/plain": [
       "array([ 9.        , 13.17777778, 17.35555556, 21.53333333, 25.71111111,\n",
       "       29.88888889, 34.06666667, 38.24444444, 42.42222222, 46.6       ])"
      ]
     },
     "execution_count": 4,
     "metadata": {},
     "output_type": "execute_result"
    }
   ],
   "source": [
    "df_mpg = df_values[:,0]\n",
    "mpg = df_mpg.copy()\n",
    "mpg_min = min(mpg)\n",
    "mpg_max = max(mpg)\n",
    "grupos = np.linspace(mpg_min,mpg_max,10)\n",
    "grupos"
   ]
  },
  {
   "cell_type": "code",
   "execution_count": 5,
   "metadata": {
    "ExecuteTime": {
     "end_time": "2020-07-06T16:44:04.905072Z",
     "start_time": "2020-07-06T16:44:04.893071Z"
    }
   },
   "outputs": [],
   "source": [
    "mpg[mpg<grupos[1]] =1\n",
    "mpg[np.logical_and(mpg>=grupos[1], mpg<grupos[2])] = 2\n",
    "mpg[np.logical_and(mpg>=grupos[2], mpg<grupos[3])] = 3\n",
    "mpg[np.logical_and(mpg>=grupos[3], mpg<grupos[4])] = 4\n",
    "mpg[np.logical_and(mpg>=grupos[4], mpg<grupos[5])] = 5\n",
    "mpg[np.logical_and(mpg>=grupos[5], mpg<grupos[6])] = 6\n",
    "mpg[np.logical_and(mpg>=grupos[6], mpg<grupos[7])] = 7\n",
    "mpg[np.logical_and(mpg>=grupos[7], mpg<grupos[8])] = 8\n",
    "mpg[np.logical_and(mpg>=grupos[8], mpg<grupos[9])] = 9\n",
    "mpg[mpg>=grupos[9]] = 10"
   ]
  },
  {
   "cell_type": "code",
   "execution_count": 6,
   "metadata": {
    "ExecuteTime": {
     "end_time": "2020-07-06T16:44:04.921072Z",
     "start_time": "2020-07-06T16:44:04.905072Z"
    }
   },
   "outputs": [
    {
     "data": {
      "text/plain": [
       "(398, 8)"
      ]
     },
     "execution_count": 6,
     "metadata": {},
     "output_type": "execute_result"
    }
   ],
   "source": [
    "df_group = df_values.copy()\n",
    "df_features = df_group[:,1:8]\n",
    "df_group[:,0] =mpg\n",
    "df_group.shape"
   ]
  },
  {
   "cell_type": "markdown",
   "metadata": {},
   "source": [
    "Función para realizar la permutación de la data"
   ]
  },
  {
   "cell_type": "code",
   "execution_count": 7,
   "metadata": {
    "ExecuteTime": {
     "end_time": "2020-07-06T16:44:04.937072Z",
     "start_time": "2020-07-06T16:44:04.921072Z"
    }
   },
   "outputs": [],
   "source": [
    "# Funcion para realizar la permutacion de los datos\n",
    "def permutacion(train_size,semilla,f):\n",
    "    np.random.seed(semilla)\n",
    "    idx= np.random.rand(len(df_group))<train_size\n",
    "   \n",
    "    train = df_group[idx]\n",
    "    train= np.array(train)\n",
    "    train_mpg = train[:,0]\n",
    "    train_x= train[:,1:f]\n",
    "    \n",
    "    test = df_group[~idx]\n",
    "    test= np.array(test)\n",
    "    test_mpg = test[:,0]\n",
    "    test_x= test[:,1:f]\n",
    "    \n",
    "    return train_mpg,train_x, test_mpg,test_x,idx"
   ]
  },
  {
   "cell_type": "code",
   "execution_count": 8,
   "metadata": {
    "ExecuteTime": {
     "end_time": "2020-07-06T16:44:04.949072Z",
     "start_time": "2020-07-06T16:44:04.937072Z"
    }
   },
   "outputs": [
    {
     "data": {
      "text/plain": [
       "(297, 7)"
      ]
     },
     "execution_count": 8,
     "metadata": {},
     "output_type": "execute_result"
    }
   ],
   "source": [
    "train_size= 0.73\n",
    "semilla=50\n",
    "f=8\n",
    "y_train,X_train,y_test,X_test,idx = permutacion(train_size,semilla,f)\n",
    "X_train.shape"
   ]
  },
  {
   "cell_type": "code",
   "execution_count": 46,
   "metadata": {
    "ExecuteTime": {
     "end_time": "2020-07-06T23:29:35.024665Z",
     "start_time": "2020-07-06T23:29:34.757948Z"
    }
   },
   "outputs": [
    {
     "data": {
      "text/plain": [
       "0.48514851485148514"
      ]
     },
     "execution_count": 46,
     "metadata": {},
     "output_type": "execute_result"
    }
   ],
   "source": [
    "clf = KNN(11) \n",
    "a=clf.score(X_test,y_test)\n",
    "original =a \n",
    "original"
   ]
  },
  {
   "cell_type": "markdown",
   "metadata": {},
   "source": [
    "El forward selection es un tipo de selección donde se analiza el desempeño de cada una de las variables de manera individual en el modelo y la que entregue un mejor desempeño será la seleccionada para aplicar el forward selection donde se probarán todas la combinaciones posibles de los demás features con ese feature que arrojó el mejor desempeño de manera individual"
   ]
  },
  {
   "cell_type": "markdown",
   "metadata": {},
   "source": [
    "Para el feature posicion 0 "
   ]
  },
  {
   "cell_type": "code",
   "execution_count": 10,
   "metadata": {
    "ExecuteTime": {
     "end_time": "2020-07-06T16:44:05.548688Z",
     "start_time": "2020-07-06T16:44:05.237207Z"
    }
   },
   "outputs": [],
   "source": [
    "puntaje_fwknn = np.ones(X_train.shape[1])\n",
    "\n",
    "X_train_orig = X_train.copy()\n",
    "X_test_orig = X_test.copy()\n",
    "\n",
    "X_train=X_train_orig.copy()\n",
    "X_train_= X_train_orig[:,0]\n",
    "\n",
    "X_test=X_test_orig.copy()\n",
    "X_test= X_test[:,0]   \n",
    "\n",
    "    \n",
    "clf = KNN(11)\n",
    "a=clf.score(X_test,y_test)\n",
    "puntaje_fwknn[0] = a   \n"
   ]
  },
  {
   "cell_type": "code",
   "execution_count": 11,
   "metadata": {
    "ExecuteTime": {
     "end_time": "2020-07-06T16:44:05.564674Z",
     "start_time": "2020-07-06T16:44:05.548688Z"
    }
   },
   "outputs": [
    {
     "data": {
      "text/plain": [
       "array([0.13861386, 1.        , 1.        , 1.        , 1.        ,\n",
       "       1.        , 1.        ])"
      ]
     },
     "execution_count": 11,
     "metadata": {},
     "output_type": "execute_result"
    }
   ],
   "source": [
    "puntaje_fwknn"
   ]
  },
  {
   "cell_type": "code",
   "execution_count": 12,
   "metadata": {
    "ExecuteTime": {
     "end_time": "2020-07-06T16:44:07.320011Z",
     "start_time": "2020-07-06T16:44:05.564674Z"
    }
   },
   "outputs": [],
   "source": [
    "# Se evalua el error de cada feature de manera individual \n",
    "\n",
    "for i in range(1,X_train_orig.shape[1]): #Ciclo del tamaño de filas es decir por la cantidad de features\n",
    "    \n",
    "    X_train=X_train_orig.copy() # Se copia la matriz original\n",
    "    X_train_= X_train_orig[:,i] # Se coloca en la columna de la posicion i por lo que se evalua cada feature de manera individual\n",
    "\n",
    "    X_test=X_test_orig.copy()\n",
    "    X_test= X_test[:,i]   \n",
    "    \n",
    "    \n",
    "    clf = KNN(11) # Primera corrida del algoritmo con un solo valor de Z\n",
    "    a=clf.score(X_test,y_test) # Se calcula knn con cada feature\n",
    "    puntaje_fwknn[i] = a   # Se acumulan las distintas tasas de aciertos "
   ]
  },
  {
   "cell_type": "code",
   "execution_count": 13,
   "metadata": {
    "ExecuteTime": {
     "end_time": "2020-07-06T16:44:07.336012Z",
     "start_time": "2020-07-06T16:44:07.320011Z"
    }
   },
   "outputs": [
    {
     "data": {
      "text/plain": [
       "(101,)"
      ]
     },
     "execution_count": 13,
     "metadata": {},
     "output_type": "execute_result"
    }
   ],
   "source": [
    "X_test.shape"
   ]
  },
  {
   "cell_type": "code",
   "execution_count": 14,
   "metadata": {
    "ExecuteTime": {
     "end_time": "2020-07-06T16:44:07.352042Z",
     "start_time": "2020-07-06T16:44:07.336012Z"
    }
   },
   "outputs": [
    {
     "data": {
      "text/plain": [
       "array([0.13861386, 0.13861386, 0.13861386, 0.25742574, 0.13861386,\n",
       "       0.13861386, 0.13861386])"
      ]
     },
     "execution_count": 14,
     "metadata": {},
     "output_type": "execute_result"
    }
   ],
   "source": [
    "puntaje_fwknn"
   ]
  },
  {
   "cell_type": "markdown",
   "metadata": {
    "ExecuteTime": {
     "end_time": "2020-07-03T22:37:37.711061Z",
     "start_time": "2020-07-03T22:37:37.706066Z"
    }
   },
   "source": [
    "La mejor tasa de aciertos se obtuvo con el feature 3 que corresponde al peso la tasa de aciertos fue de 25.74%"
   ]
  },
  {
   "cell_type": "markdown",
   "metadata": {},
   "source": [
    "### Forward Selection"
   ]
  },
  {
   "cell_type": "markdown",
   "metadata": {},
   "source": [
    "El forward selection es un tipo de selección donde se analiza el desempeño de cada una de las variables de manera individual en el modelo y la que entregue un mejor desempeño será la seleccionada para aplicar el forward selection donde se probarán todas la combinaciones posibles de los demás features con ese feature que arrojó el mejor desempeño de manera individual.\n",
    "\n",
    "A partir de aquí se hacen todas las combinaciones de los demás feature para el feature 3"
   ]
  },
  {
   "cell_type": "code",
   "execution_count": 15,
   "metadata": {
    "ExecuteTime": {
     "end_time": "2020-07-06T16:44:07.368065Z",
     "start_time": "2020-07-06T16:44:07.352042Z"
    }
   },
   "outputs": [],
   "source": [
    "t = [0,1,2,4,5,6] # se introducen los valores para determinar las distintas combinaciones\n",
    "c = set(itertools.combinations(t, 1)) # se usa una herramienta para hacer iteraciones para usar las distintas combinaciones\n",
    "d= list(c) # se convierten estas combinaciones en una lista para poder utilizarse mas adelante"
   ]
  },
  {
   "cell_type": "markdown",
   "metadata": {},
   "source": [
    "Ciclo para evaluar el feature 3 y su combinación con cada uno de los demás features"
   ]
  },
  {
   "cell_type": "code",
   "execution_count": 16,
   "metadata": {
    "ExecuteTime": {
     "end_time": "2020-07-06T16:44:09.022845Z",
     "start_time": "2020-07-06T16:44:07.368065Z"
    }
   },
   "outputs": [],
   "source": [
    "puntaje_fwknn_1=np.ones(len(d)) # variable que se utilizará para presentar los resultados \n",
    "for i in range(0,len(d)):\n",
    "    \n",
    "    X_train=X_train_orig.copy() # se copia la matriz con todos los features de train\n",
    "    train_3 = X_train[:,3] # Se elige el feature o los features en base a los que se harán las combinaciones\n",
    "    X_train_i= X_train_orig[:,d[i]] # se seleccionan los distintos features para las combinaciones\n",
    "    X_train= np.column_stack((train_3,X_train_i)) # se concatenan los features\n",
    "    \n",
    "    X_test=X_test_orig.copy()\n",
    "    test_3 = X_test[:,3]\n",
    "    X_test_i= X_test_orig[:,d[i]]\n",
    "    X_test= np.column_stack((test_3,X_test_i)) \n",
    "    \n",
    "    \n",
    "    clf = KNN(11)  # se llama a la clase KNN y se concatenan los resultados\n",
    "    a=clf.score(X_test,y_test)\n",
    "    puntaje_fwknn_1[i] = a   "
   ]
  },
  {
   "cell_type": "code",
   "execution_count": 17,
   "metadata": {
    "ExecuteTime": {
     "end_time": "2020-07-06T16:44:09.038222Z",
     "start_time": "2020-07-06T16:44:09.022845Z"
    }
   },
   "outputs": [
    {
     "data": {
      "text/plain": [
       "array([0.48514851, 0.5049505 , 0.3960396 , 0.46534653, 0.47524752,\n",
       "       0.48514851])"
      ]
     },
     "execution_count": 17,
     "metadata": {},
     "output_type": "execute_result"
    }
   ],
   "source": [
    "puntaje_fwknn_1"
   ]
  },
  {
   "cell_type": "markdown",
   "metadata": {},
   "source": [
    "El mejor resultado para estas iteraciones 50.49% la proporcionó la combinación con el feature 1 por lo que se siguen haciendo combinaciones con estos dos featurs (3 1)"
   ]
  },
  {
   "cell_type": "code",
   "execution_count": 18,
   "metadata": {
    "ExecuteTime": {
     "end_time": "2020-07-06T16:44:09.054226Z",
     "start_time": "2020-07-06T16:44:09.038222Z"
    }
   },
   "outputs": [],
   "source": [
    "t = [0,2,4,5,6]\n",
    "c = set(itertools.combinations(t, 1))\n",
    "d= list(c)"
   ]
  },
  {
   "cell_type": "code",
   "execution_count": 19,
   "metadata": {
    "ExecuteTime": {
     "end_time": "2020-07-06T16:44:10.415466Z",
     "start_time": "2020-07-06T16:44:09.054226Z"
    }
   },
   "outputs": [],
   "source": [
    "puntaje_fwknn_2=np.ones(len(d)) # variable que se utilizará para presentar los resultados \n",
    "for i in range(0,len(d)):\n",
    "    \n",
    "    X_train=X_train_orig.copy()\n",
    "    train_3 = X_train[:,3]\n",
    "    train_1 = X_train[:,1]\n",
    "    X_train_i= X_train_orig[:,d[i]]\n",
    "    X_train= np.column_stack((train_3,train_1,X_train_i))\n",
    "    \n",
    "    X_test=X_test_orig.copy()\n",
    "    test_3 = X_test[:,3]\n",
    "    test_1 = X_test[:,1]\n",
    "    X_test_i= X_test_orig[:,d[i]]\n",
    "    X_test= np.column_stack((test_3,test_1,X_test_i)) \n",
    "    \n",
    "    \n",
    "    clf = KNN(11) \n",
    "    a=clf.score(X_test,y_test)\n",
    "    puntaje_fwknn_2[i] = a   "
   ]
  },
  {
   "cell_type": "code",
   "execution_count": 59,
   "metadata": {
    "ExecuteTime": {
     "end_time": "2020-07-06T23:34:04.554245Z",
     "start_time": "2020-07-06T23:34:04.545242Z"
    }
   },
   "outputs": [
    {
     "data": {
      "text/plain": [
       "0.5148514851485149"
      ]
     },
     "execution_count": 59,
     "metadata": {},
     "output_type": "execute_result"
    }
   ],
   "source": [
    "puntaje_fwknn_final=puntaje_fwknn_2[3]\n",
    "puntaje_fwknn_final"
   ]
  },
  {
   "cell_type": "markdown",
   "metadata": {},
   "source": [
    "El mejor resultado para estas iteraciones 51.48% la proporcionó la combinación con el feature 4 por lo que se siguen haciendo combinaciones con estos dos features (3 1 5)"
   ]
  },
  {
   "cell_type": "code",
   "execution_count": 21,
   "metadata": {
    "ExecuteTime": {
     "end_time": "2020-07-06T16:44:10.443432Z",
     "start_time": "2020-07-06T16:44:10.427431Z"
    }
   },
   "outputs": [],
   "source": [
    "t = [0,2,4,6]\n",
    "c = set(itertools.combinations(t, 1))\n",
    "d= list(c)"
   ]
  },
  {
   "cell_type": "code",
   "execution_count": 22,
   "metadata": {
    "ExecuteTime": {
     "end_time": "2020-07-06T16:44:11.534141Z",
     "start_time": "2020-07-06T16:44:10.443432Z"
    }
   },
   "outputs": [],
   "source": [
    "puntaje_fwknn_3=np.ones(len(d)) # variable que se utilizará para presentar los resultados \n",
    "for i in range(0,len(d)):\n",
    "    \n",
    "    X_train=X_train_orig.copy()\n",
    "    train_3 = X_train[:,3]\n",
    "    train_1 = X_train[:,1]\n",
    "    train_5 = X_train[:,5]\n",
    "    X_train_i= X_train_orig[:,d[i]]\n",
    "    X_train= np.column_stack((train_3,train_1,train_5,X_train_i))\n",
    "    \n",
    "    X_test=X_test_orig.copy()\n",
    "    test_3 = X_test[:,3]\n",
    "    test_1 = X_test[:,1]\n",
    "    test_5 = X_test[:,5]\n",
    "    X_test_i= X_test_orig[:,d[i]]\n",
    "    X_test= np.column_stack((test_3,test_1,test_5,X_test_i)) \n",
    "    \n",
    "    \n",
    "    clf = KNN(11) \n",
    "    a=clf.score(X_test,y_test)\n",
    "    puntaje_fwknn_3[i] = a   "
   ]
  },
  {
   "cell_type": "code",
   "execution_count": 23,
   "metadata": {
    "ExecuteTime": {
     "end_time": "2020-07-06T16:44:11.550083Z",
     "start_time": "2020-07-06T16:44:11.534141Z"
    }
   },
   "outputs": [
    {
     "data": {
      "text/plain": [
       "array([0.3960396 , 0.51485149, 0.51485149, 0.5049505 ])"
      ]
     },
     "execution_count": 23,
     "metadata": {},
     "output_type": "execute_result"
    }
   ],
   "source": [
    "puntaje_fwknn_3"
   ]
  },
  {
   "cell_type": "markdown",
   "metadata": {},
   "source": [
    "El mejor resultado para estas iteraciones 51.48% la proporcionó la combinación con el feature 0 por lo que se siguen haciendo combinaciones con estos dos features (3 1 5 0)"
   ]
  },
  {
   "cell_type": "code",
   "execution_count": 24,
   "metadata": {
    "ExecuteTime": {
     "end_time": "2020-07-06T16:44:11.566086Z",
     "start_time": "2020-07-06T16:44:11.550083Z"
    }
   },
   "outputs": [],
   "source": [
    "t = [2,4,6]\n",
    "c = set(itertools.combinations(t, 1))\n",
    "d= list(c)"
   ]
  },
  {
   "cell_type": "code",
   "execution_count": 25,
   "metadata": {
    "ExecuteTime": {
     "end_time": "2020-07-06T16:44:12.408891Z",
     "start_time": "2020-07-06T16:44:11.566086Z"
    }
   },
   "outputs": [],
   "source": [
    "puntaje_fwknn_4=np.ones(len(d)) # variable que se utilizará para presentar los resultados \n",
    "for i in range(0,len(d)):\n",
    "    \n",
    "    X_train=X_train_orig.copy()\n",
    "    train_3 = X_train[:,3]\n",
    "    train_1 = X_train[:,1]\n",
    "    train_5 = X_train[:,5]\n",
    "    train_0 = X_train[:,0]\n",
    "    X_train_i= X_train_orig[:,d[i]]\n",
    "    X_train= np.column_stack((train_3,train_1,train_5,train_0,X_train_i))\n",
    "    \n",
    "    X_test=X_test_orig.copy()\n",
    "    test_3 = X_test[:,3]\n",
    "    test_1 = X_test[:,1]\n",
    "    test_5 = X_test[:,5]\n",
    "    test_0 = X_test[:,0]\n",
    "    X_test_i= X_test_orig[:,d[i]]\n",
    "    X_test= np.column_stack((test_3,test_1,test_5,test_0,X_test_i)) \n",
    "    \n",
    "    \n",
    "    clf = KNN(11) \n",
    "    a=clf.score(X_test,y_test)\n",
    "    puntaje_fwknn_4[i] = a   "
   ]
  },
  {
   "cell_type": "code",
   "execution_count": 26,
   "metadata": {
    "ExecuteTime": {
     "end_time": "2020-07-06T16:44:12.424841Z",
     "start_time": "2020-07-06T16:44:12.408891Z"
    }
   },
   "outputs": [
    {
     "data": {
      "text/plain": [
       "array([0.3960396 , 0.51485149, 0.5049505 ])"
      ]
     },
     "execution_count": 26,
     "metadata": {},
     "output_type": "execute_result"
    }
   ],
   "source": [
    "puntaje_fwknn_4"
   ]
  },
  {
   "cell_type": "markdown",
   "metadata": {},
   "source": [
    "A partir del resultado obtenido aumentando la cantidad de features la tasa de aciertos se esta manteniendo o bajando por lo que estos features no están ajustando de mejor manera el modelo sino que no estan aportando o esta empeorando el comportamiento de este.\n",
    "\n",
    "Se seguiran realizando las demas combinaciones para fines demostrativos y poder observar los distintos comportamientos\n",
    "\n",
    "Estas combinaciones seguiran a partir de agregar el feature 6 "
   ]
  },
  {
   "cell_type": "code",
   "execution_count": 27,
   "metadata": {
    "ExecuteTime": {
     "end_time": "2020-07-06T16:44:12.440837Z",
     "start_time": "2020-07-06T16:44:12.424841Z"
    }
   },
   "outputs": [],
   "source": [
    "t = [2,4]\n",
    "c = set(itertools.combinations(t, 1))\n",
    "d= list(c)"
   ]
  },
  {
   "cell_type": "code",
   "execution_count": 28,
   "metadata": {
    "ExecuteTime": {
     "end_time": "2020-07-06T16:44:13.014912Z",
     "start_time": "2020-07-06T16:44:12.440837Z"
    }
   },
   "outputs": [],
   "source": [
    "puntaje_fwknn_5=np.ones(len(d)) # variable que se utilizará para presentar los resultados \n",
    "for i in range(0,len(d)):\n",
    "    \n",
    "    X_train=X_train_orig.copy()\n",
    "    train_3 = X_train[:,3]\n",
    "    train_1 = X_train[:,1]\n",
    "    train_5 = X_train[:,5]\n",
    "    train_0 = X_train[:,0]\n",
    "    train_6 = X_train[:,6]\n",
    "    X_train_i= X_train_orig[:,d[i]]\n",
    "    X_train= np.column_stack((train_3,train_1,train_5,train_0,train_6,X_train_i))\n",
    "    \n",
    "    X_test=X_test_orig.copy()\n",
    "    test_3 = X_test[:,3]\n",
    "    test_1 = X_test[:,1]\n",
    "    test_5 = X_test[:,5]\n",
    "    test_0 = X_test[:,0]\n",
    "    test_6 = X_test[:,6]\n",
    "    X_test_i= X_test_orig[:,d[i]]\n",
    "    X_test= np.column_stack((test_3,test_1,test_5,test_0,test_6,X_test_i)) \n",
    "    \n",
    "    \n",
    "    clf = KNN(11) \n",
    "    a=clf.score(X_test,y_test)\n",
    "    puntaje_fwknn_5[i] = a   "
   ]
  },
  {
   "cell_type": "code",
   "execution_count": 29,
   "metadata": {
    "ExecuteTime": {
     "end_time": "2020-07-06T16:44:13.030954Z",
     "start_time": "2020-07-06T16:44:13.014912Z"
    }
   },
   "outputs": [
    {
     "data": {
      "text/plain": [
       "array([0.3960396, 0.5049505])"
      ]
     },
     "execution_count": 29,
     "metadata": {},
     "output_type": "execute_result"
    }
   ],
   "source": [
    "puntaje_fwknn_5"
   ]
  },
  {
   "cell_type": "markdown",
   "metadata": {},
   "source": [
    "Estos dos features resultantes solo empeoran el comportamiento del modelo pero como el caso anterior estos se desarrollaran para fines demostrativos del forward selection, se tomará el feature 4\n",
    "\n",
    "Ya que este nos indica que por lo general la cantidad total de features no es la necesaria para describir de la mejor manera el modelo ya que algunas caracteristicas son muy similares para las distintas clases "
   ]
  },
  {
   "cell_type": "code",
   "execution_count": 30,
   "metadata": {
    "ExecuteTime": {
     "end_time": "2020-07-06T16:44:13.046917Z",
     "start_time": "2020-07-06T16:44:13.030954Z"
    }
   },
   "outputs": [],
   "source": [
    "t = [2]\n",
    "c = set(itertools.combinations(t, 1))\n",
    "d= list(c)"
   ]
  },
  {
   "cell_type": "code",
   "execution_count": 31,
   "metadata": {
    "ExecuteTime": {
     "end_time": "2020-07-06T16:44:13.345598Z",
     "start_time": "2020-07-06T16:44:13.046917Z"
    }
   },
   "outputs": [],
   "source": [
    "puntaje_fwknn_6=np.ones(len(d)) # variable que se utilizará para presentar los resultados \n",
    "for i in range(0,len(d)):\n",
    "    \n",
    "    X_train=X_train_orig.copy()\n",
    "    train_3 = X_train[:,3]\n",
    "    train_1 = X_train[:,1]\n",
    "    train_5 = X_train[:,5]\n",
    "    train_0 = X_train[:,0]\n",
    "    train_6 = X_train[:,6]\n",
    "    train_4 = X_train[:,4]\n",
    "    X_train_i= X_train_orig[:,d[i]]\n",
    "    X_train= np.column_stack((train_3,train_1,train_5,train_0,train_6,train_4,X_train_i))\n",
    "    \n",
    "    X_test=X_test_orig.copy()\n",
    "    test_3 = X_test[:,3]\n",
    "    test_1 = X_test[:,1]\n",
    "    test_5 = X_test[:,5]\n",
    "    test_0 = X_test[:,0]\n",
    "    test_6 = X_test[:,6]\n",
    "    test_4 = X_test[:,4]\n",
    "    X_test_i= X_test_orig[:,d[i]]\n",
    "    X_test= np.column_stack((test_3,test_1,test_5,test_0,test_6,test_4,X_test_i)) \n",
    "    \n",
    "    \n",
    "    clf = KNN(11) \n",
    "    a=clf.score(X_test,y_test)\n",
    "    puntaje_fwknn_6[i] = a   "
   ]
  },
  {
   "cell_type": "code",
   "execution_count": 32,
   "metadata": {
    "ExecuteTime": {
     "end_time": "2020-07-06T16:44:13.358226Z",
     "start_time": "2020-07-06T16:44:13.346220Z"
    }
   },
   "outputs": [
    {
     "data": {
      "text/plain": [
       "array([0.3960396])"
      ]
     },
     "execution_count": 32,
     "metadata": {},
     "output_type": "execute_result"
    }
   ],
   "source": [
    "puntaje_fwknn_6"
   ]
  },
  {
   "cell_type": "markdown",
   "metadata": {
    "ExecuteTime": {
     "end_time": "2020-07-04T16:37:30.271128Z",
     "start_time": "2020-07-04T16:37:30.012416Z"
    }
   },
   "source": [
    "Como tal ya se podía observar la mejor combinación de los features 3 1 5 se obtuvo una tasa de aciertos de un 51.48%"
   ]
  },
  {
   "cell_type": "markdown",
   "metadata": {
    "ExecuteTime": {
     "end_time": "2020-07-04T16:37:44.505293Z",
     "start_time": "2020-07-04T16:37:44.501330Z"
    }
   },
   "source": [
    "### Backward Selection"
   ]
  },
  {
   "cell_type": "markdown",
   "metadata": {},
   "source": [
    "El backward selection funciona de una manera contraria al forward donde se analiza la tasa de acierto a paritr de la cantidad total de los features y se va eliminando el feature con menor tasa de acierto hasta encontrar una menor cantidad de feature que de una tasa de aciertos aún aceptable (dentro de un 5% o maximo un 10%) y nos permite trabajar con una cantidad menor de features"
   ]
  },
  {
   "cell_type": "code",
   "execution_count": 52,
   "metadata": {
    "ExecuteTime": {
     "end_time": "2020-07-06T23:32:13.716089Z",
     "start_time": "2020-07-06T23:32:13.703129Z"
    }
   },
   "outputs": [],
   "source": [
    "# se le devuelve a X_train y X_test los valores originales de estos set\n",
    "X_train = X_train_orig.copy()\n",
    "X_test = X_test_orig.copy()\n",
    "X_train_bw = X_train_orig.copy() # se crea el nuevo subset que comienza con toda la data original pero se ira modificando\n",
    "X_test_bw = X_test_orig.copy()"
   ]
  },
  {
   "cell_type": "code",
   "execution_count": 53,
   "metadata": {
    "ExecuteTime": {
     "end_time": "2020-07-06T23:32:15.882592Z",
     "start_time": "2020-07-06T23:32:13.991721Z"
    }
   },
   "outputs": [
    {
     "data": {
      "text/plain": [
       "0.504950495049505"
      ]
     },
     "execution_count": 53,
     "metadata": {},
     "output_type": "execute_result"
    }
   ],
   "source": [
    "puntaje_bwknn=np.ones(X_train_bw.shape[1])   \n",
    "for i in range (X_train_bw.shape[1]): # se realiza un for del tamaño de la cantidad de columnas (features)\n",
    "        \n",
    "        X_train = X_train_bw.copy() # se itera eliminando un feature a la vez para observar sus tasas de aciertos\n",
    "        X_test = X_test_bw.copy()\n",
    "        X_train = np.delete(X_train,i,axis=1)\n",
    "        X_test = np.delete(X_test,i,axis=1)\n",
    "        \n",
    "        clf = KNN(11) \n",
    "        a=clf.score(X_test,y_test)\n",
    "        puntaje_bwknn[i]= a   #Variable para guardar la tasa de cada uno de los features a medida que se eliminan\n",
    "\n",
    "# Se busca el feature de peor resultado \n",
    "least_feature = np.argsort(puntaje_bwknn)\n",
    "\n",
    "#Se elimina esta pero feature de bw subset\n",
    "X_train_bw = X_train_bw.copy()\n",
    "X_train_bw =np.delete(X_train_bw,least_feature[-1],axis=1)\n",
    "X_test_bw = X_test_bw.copy()\n",
    "X_test_bw =np.delete(X_test_bw,least_feature[-1],axis=1)  \n",
    "\n",
    "X_train = X_train_bw.copy()\n",
    "X_test = X_test_bw.copy()\n",
    "\n",
    "# sin el feature eliminado se calcula la tasa de aciertos del subset\n",
    "clf = KNN(11) \n",
    "a=clf.score(X_test,y_test)\n",
    "puntaje_bwknn_sbset= a   #tasa restante \n",
    "puntaje_bwknn_sbset"
   ]
  },
  {
   "cell_type": "markdown",
   "metadata": {},
   "source": [
    "Eliminando el feature 2 se obtuvo 50.49%"
   ]
  },
  {
   "cell_type": "code",
   "execution_count": 54,
   "metadata": {
    "ExecuteTime": {
     "end_time": "2020-07-06T23:32:17.684370Z",
     "start_time": "2020-07-06T23:32:15.883601Z"
    }
   },
   "outputs": [
    {
     "data": {
      "text/plain": [
       "0.5148514851485149"
      ]
     },
     "execution_count": 54,
     "metadata": {},
     "output_type": "execute_result"
    }
   ],
   "source": [
    "puntaje_bwknn=np.ones(X_train_bw.shape[1])   \n",
    "for i in range (X_train_bw.shape[1]):\n",
    "        \n",
    "        X_train = X_train_bw.copy()\n",
    "        X_test = X_test_bw.copy()\n",
    "        X_train = np.delete(X_train,i,axis=1)\n",
    "        X_test = np.delete(X_test,i,axis=1)\n",
    "        \n",
    "        clf = KNN(11) \n",
    "        a=clf.score(X_test,y_test)\n",
    "        puntaje_bwknn[i]= a   #tasa restante \n",
    "\n",
    "# Se busca el feature de peor resultado \n",
    "least_feature = np.argsort(puntaje_bwknn)\n",
    "\n",
    "#Se elimina esta pero feature de bw subset\n",
    "X_train_bw = X_train_bw.copy()\n",
    "X_train_bw =np.delete(X_train_bw,least_feature[-1],axis=1)\n",
    "X_test_bw = X_test_bw.copy()\n",
    "X_test_bw =np.delete(X_test_bw,least_feature[-1],axis=1)  \n",
    "\n",
    "X_train = X_train_bw.copy()\n",
    "X_test = X_test_bw.copy()\n",
    "\n",
    "# sin el feature eliminado se calcula la tasa de aciertos del subset\n",
    "clf = KNN(11) \n",
    "a=clf.score(X_test,y_test)\n",
    "puntaje_bwknn_sbset= a   #tasa restante \n",
    "puntaje_bwknn_sbset"
   ]
  },
  {
   "cell_type": "markdown",
   "metadata": {
    "ExecuteTime": {
     "end_time": "2020-07-06T16:23:56.635445Z",
     "start_time": "2020-07-06T16:23:56.626952Z"
    }
   },
   "source": [
    "Al eliminar el feature 4 se obtuvo 51.48% de tasa de aciertos"
   ]
  },
  {
   "cell_type": "code",
   "execution_count": 55,
   "metadata": {
    "ExecuteTime": {
     "end_time": "2020-07-06T23:32:19.125087Z",
     "start_time": "2020-07-06T23:32:17.685442Z"
    }
   },
   "outputs": [
    {
     "data": {
      "text/plain": [
       "0.5148514851485149"
      ]
     },
     "execution_count": 55,
     "metadata": {},
     "output_type": "execute_result"
    }
   ],
   "source": [
    "puntaje_bwknn=np.ones(X_train_bw.shape[1])   \n",
    "for i in range (X_train_bw.shape[1]):\n",
    "        \n",
    "        X_train = X_train_bw.copy()\n",
    "        X_test = X_test_bw.copy()\n",
    "        X_train = np.delete(X_train,i,axis=1)\n",
    "        X_test = np.delete(X_test,i,axis=1)\n",
    "        \n",
    "        clf = KNN(11) \n",
    "        a=clf.score(X_test,y_test)\n",
    "        puntaje_bwknn[i]= a   #tasa restante \n",
    "\n",
    "# Se busca el feature de peor resultado \n",
    "least_feature = np.argsort(puntaje_bwknn)\n",
    "\n",
    "#Se elimina esta pero feature de bw subset\n",
    "X_train_bw = X_train_bw.copy()\n",
    "X_train_bw =np.delete(X_train_bw,least_feature[-1],axis=1)\n",
    "X_test_bw = X_test_bw.copy()\n",
    "X_test_bw =np.delete(X_test_bw,least_feature[-1],axis=1)  \n",
    "\n",
    "X_train = X_train_bw.copy()\n",
    "X_test = X_test_bw.copy()\n",
    "\n",
    "# sin el feature eliminado se calcula la tasa de aciertos del subset\n",
    "clf = KNN(11) \n",
    "a=clf.score(X_test,y_test)\n",
    "puntaje_bwknn_sbset= a   #tasa restante \n",
    "puntaje_bwknn_sbset"
   ]
  },
  {
   "cell_type": "markdown",
   "metadata": {
    "ExecuteTime": {
     "end_time": "2020-07-06T16:25:33.123016Z",
     "start_time": "2020-07-06T16:25:33.111161Z"
    }
   },
   "source": [
    "Eliminando el feature 6 se mantiene la tasa de aciertos con 51.48%"
   ]
  },
  {
   "cell_type": "code",
   "execution_count": 56,
   "metadata": {
    "ExecuteTime": {
     "end_time": "2020-07-06T23:32:20.338809Z",
     "start_time": "2020-07-06T23:32:19.126136Z"
    }
   },
   "outputs": [
    {
     "data": {
      "text/plain": [
       "0.5148514851485149"
      ]
     },
     "execution_count": 56,
     "metadata": {},
     "output_type": "execute_result"
    }
   ],
   "source": [
    "puntaje_bwknn=np.ones(X_train_bw.shape[1])   \n",
    "for i in range (X_train_bw.shape[1]):\n",
    "        \n",
    "        X_train = X_train_bw.copy()\n",
    "        X_test = X_test_bw.copy()\n",
    "        X_train = np.delete(X_train,i,axis=1)\n",
    "        X_test = np.delete(X_test,i,axis=1)\n",
    "        \n",
    "        clf = KNN(11) \n",
    "        a=clf.score(X_test,y_test)\n",
    "        puntaje_bwknn[i]= a   #tasa restante \n",
    "\n",
    "# Se busca el feature de peor resultado \n",
    "least_feature = np.argsort(puntaje_bwknn)\n",
    "\n",
    "#Se elimina esta pero feature de bw subset\n",
    "X_train_bw = X_train_bw.copy()\n",
    "X_train_bw =np.delete(X_train_bw,least_feature[-1],axis=1)\n",
    "X_test_bw = X_test_bw.copy()\n",
    "X_test_bw =np.delete(X_test_bw,least_feature[-1],axis=1)  \n",
    "\n",
    "X_train = X_train_bw.copy()\n",
    "X_test = X_test_bw.copy()\n",
    "\n",
    "# sin el feature eliminado se calcula la tasa de aciertos del subset\n",
    "clf = KNN(11) \n",
    "a=clf.score(X_test,y_test)\n",
    "puntaje_bwknn_sbset= a   #tasa restante \n",
    "puntaje_bwknn_final= puntaje_bwknn_sbset\n",
    "puntaje_bwknn_final"
   ]
  },
  {
   "cell_type": "markdown",
   "metadata": {
    "ExecuteTime": {
     "end_time": "2020-07-06T16:26:54.198763Z",
     "start_time": "2020-07-06T16:26:54.170733Z"
    }
   },
   "source": [
    "Eliminando el feature 0 aún se mantiene la tasa de aciertos en 51.48%"
   ]
  },
  {
   "cell_type": "code",
   "execution_count": 38,
   "metadata": {
    "ExecuteTime": {
     "end_time": "2020-07-06T16:44:20.968284Z",
     "start_time": "2020-07-06T16:44:19.949679Z"
    }
   },
   "outputs": [
    {
     "data": {
      "text/plain": [
       "0.504950495049505"
      ]
     },
     "execution_count": 38,
     "metadata": {},
     "output_type": "execute_result"
    }
   ],
   "source": [
    "puntaje_bwknn=np.ones(X_train_bw.shape[1])   \n",
    "for i in range (X_train_bw.shape[1]):\n",
    "        \n",
    "        X_train = X_train_bw.copy()\n",
    "        X_test = X_test_bw.copy()\n",
    "        X_train = np.delete(X_train,i,axis=1)\n",
    "        X_test = np.delete(X_test,i,axis=1)\n",
    "        \n",
    "        clf = KNN(11) \n",
    "        a=clf.score(X_test,y_test)\n",
    "        puntaje_bwknn[i]= a   #tasa restante \n",
    "\n",
    "# Se busca el feature de peor resultado \n",
    "least_feature = np.argsort(puntaje_bwknn)\n",
    "\n",
    "#Se elimina esta pero feature de bw subset\n",
    "X_train_bw = X_train_bw.copy()\n",
    "X_train_bw =np.delete(X_train_bw,least_feature[-1],axis=1)\n",
    "X_test_bw = X_test_bw.copy()\n",
    "X_test_bw =np.delete(X_test_bw,least_feature[-1],axis=1)  \n",
    "\n",
    "X_train = X_train_bw.copy()\n",
    "X_test = X_test_bw.copy()\n",
    "\n",
    "# sin el feature eliminado se calcula la tasa de aciertos del subset\n",
    "clf = KNN(11) \n",
    "a=clf.score(X_test,y_test)\n",
    "puntaje_bwknn_sbset= a   #tasa restante \n",
    "puntaje_bwknn_sbset"
   ]
  },
  {
   "cell_type": "markdown",
   "metadata": {
    "ExecuteTime": {
     "end_time": "2020-07-06T16:31:46.278595Z",
     "start_time": "2020-07-06T16:31:46.254557Z"
    }
   },
   "source": [
    "Eliminando el feature 5 la tasa de aciertos resulta ser 50.49%"
   ]
  },
  {
   "cell_type": "code",
   "execution_count": 39,
   "metadata": {
    "ExecuteTime": {
     "end_time": "2020-07-06T16:44:21.708069Z",
     "start_time": "2020-07-06T16:44:20.968284Z"
    }
   },
   "outputs": [
    {
     "data": {
      "text/plain": [
       "0.48514851485148514"
      ]
     },
     "execution_count": 39,
     "metadata": {},
     "output_type": "execute_result"
    }
   ],
   "source": [
    "puntaje_bwknn=np.ones(X_train_bw.shape[1])   \n",
    "for i in range (X_train_bw.shape[1]):\n",
    "        \n",
    "        X_train = X_train_bw.copy()\n",
    "        X_test = X_test_bw.copy()\n",
    "        X_train = np.delete(X_train,i,axis=1)\n",
    "        X_test = np.delete(X_test,i,axis=1)\n",
    "        \n",
    "        clf = KNN(11) \n",
    "        a=clf.score(X_test,y_test)\n",
    "        puntaje_bwknn[i]= a   #tasa restante \n",
    "\n",
    "# Se busca el feature de peor resultado \n",
    "least_feature = np.argsort(puntaje_bwknn)\n",
    "\n",
    "#Se elimina esta pero feature de bw subset\n",
    "X_train_bw = X_train_bw.copy()\n",
    "X_train_bw =np.delete(X_train_bw,least_feature[-1],axis=1)\n",
    "X_test_bw = X_test_bw.copy()\n",
    "X_test_bw =np.delete(X_test_bw,least_feature[-1],axis=1)  \n",
    "\n",
    "X_train = X_train_bw.copy()\n",
    "X_test = X_test_bw.copy()\n",
    "\n",
    "# sin el feature eliminado se calcula la tasa de aciertos del subset\n",
    "clf = KNN(11) \n",
    "a=clf.score(X_test,y_test)\n",
    "puntaje_bwknn_sbset= a   #tasa restante \n",
    "puntaje_bwknn_sbset"
   ]
  },
  {
   "cell_type": "markdown",
   "metadata": {
    "ExecuteTime": {
     "end_time": "2020-07-06T16:32:46.742810Z",
     "start_time": "2020-07-06T16:32:46.730810Z"
    }
   },
   "source": [
    "Eliminando el feature 1 la tasa de aciertos disminuye a ser 48.51%"
   ]
  },
  {
   "cell_type": "markdown",
   "metadata": {},
   "source": [
    "Utilizando backward selection la mejor tasa de aciertos coincide con la de forward selection al igual que los features que se estan utilizando 51.48% con los features 3, 1 y 5 mientras que ambos coincidieron que con solamente los features 3 y 1 se obtuvo una tasa de aciertos de 50.49% "
   ]
  },
  {
   "cell_type": "code",
   "execution_count": 62,
   "metadata": {
    "ExecuteTime": {
     "end_time": "2020-07-07T00:42:38.361168Z",
     "start_time": "2020-07-07T00:42:38.288458Z"
    }
   },
   "outputs": [
    {
     "name": "stdout",
     "output_type": "stream",
     "text": [
      "__name__ 57\n",
      "__doc__ 113\n",
      "__package__ 16\n",
      "__loader__ 16\n",
      "__spec__ 16\n",
      "__builtin__ 80\n",
      "__builtins__ 80\n",
      "_ih 640\n",
      "_oh 1184\n",
      "_dh 72\n",
      "In 640\n",
      "Out 1184\n",
      "get_ipython 64\n",
      "exit 56\n",
      "quit 56\n",
      "_ 32\n",
      "__ 136\n",
      "___ 32\n",
      "_i 147\n",
      "_ii 355\n",
      "_iii 107\n",
      "_i1 361\n",
      "pd 80\n",
      "np 80\n",
      "linalg 80\n",
      "random 80\n",
      "distance 80\n",
      "scipy 80\n",
      "Counter 1056\n",
      "norm 56\n",
      "plt 80\n",
      "mode 136\n",
      "time 80\n",
      "timeit 80\n",
      "itertools 80\n",
      "_i2 812\n",
      "KNN 1056\n",
      "_i3 193\n",
      "df 25624\n",
      "df_values 112\n",
      "_3 25624\n",
      "_i4 178\n",
      "df_mpg 96\n",
      "mpg 3280\n",
      "mpg_min 32\n",
      "mpg_max 32\n",
      "grupos 96\n",
      "_4 96\n",
      "_i5 535\n",
      "_i6 140\n",
      "df_group 25584\n",
      "df_features 112\n",
      "_6 64\n",
      "_i7 487\n",
      "permutacion 136\n",
      "_i8 164\n",
      "train_size 24\n",
      "semilla 28\n",
      "f 28\n",
      "y_train 96\n",
      "X_train 7240\n",
      "y_test 96\n",
      "X_test 2536\n",
      "idx 494\n",
      "_8 64\n",
      "_i9 91\n",
      "clf 56\n",
      "a 32\n",
      "_9 32\n",
      "_i10 327\n",
      "puntaje_fwknn 152\n",
      "X_train_orig 16744\n",
      "X_test_orig 5768\n",
      "X_train_ 96\n",
      "_i11 62\n",
      "_11 152\n",
      "_i12 1357\n",
      "i 28\n",
      "_i13 61\n",
      "_13 56\n",
      "_i14 62\n",
      "_14 152\n",
      "_i15 357\n",
      "t 72\n",
      "c 224\n",
      "d 96\n",
      "_i16 1640\n",
      "puntaje_fwknn_1 144\n",
      "train_3 96\n",
      "X_train_i 112\n",
      "test_3 96\n",
      "X_test_i 112\n",
      "_i17 64\n",
      "_17 144\n",
      "_i18 113\n",
      "_i19 1205\n",
      "puntaje_fwknn_2 136\n",
      "train_1 96\n",
      "test_1 96\n",
      "_i20 64\n",
      "_20 136\n",
      "_i21 111\n",
      "_i22 1339\n",
      "puntaje_fwknn_3 128\n",
      "train_5 96\n",
      "test_5 96\n",
      "_i23 64\n",
      "_23 128\n",
      "_i24 109\n",
      "_i25 1473\n",
      "puntaje_fwknn_4 120\n",
      "train_0 96\n",
      "test_0 96\n",
      "_i26 64\n",
      "_26 120\n",
      "_i27 107\n",
      "_i28 1607\n",
      "puntaje_fwknn_5 112\n",
      "train_6 96\n",
      "test_6 96\n",
      "_i29 64\n",
      "_29 112\n",
      "_i30 105\n",
      "_i31 1741\n",
      "puntaje_fwknn_6 104\n",
      "train_4 96\n",
      "test_4 96\n",
      "_i32 64\n",
      "_32 104\n",
      "_i33 331\n",
      "X_train_bw 7240\n",
      "X_test_bw 2536\n",
      "_i34 2303\n",
      "puntaje_bwknn 128\n",
      "least_feature 128\n",
      "puntaje_bwknn_sbset 32\n",
      "_34 32\n",
      "_i35 948\n",
      "_35 32\n",
      "_i36 948\n",
      "_36 32\n",
      "_i37 948\n",
      "_37 32\n",
      "_i38 948\n",
      "_38 32\n",
      "_i39 948\n",
      "_39 32\n",
      "_i40 92\n",
      "_40 32\n",
      "_i41 145\n",
      "local_vars 3872\n",
      "var 53\n",
      "obj 147\n",
      "_i42 346\n",
      "sys 80\n",
      "_i43 145\n",
      "_i44 147\n",
      "_i45 378\n",
      "functools 80\n",
      "importlib 80\n",
      "inspect 80\n",
      "logging 80\n",
      "Number 888\n",
      "re 80\n",
      "cycler 136\n",
      "matplotlib 80\n",
      "rcsetup 80\n",
      "style 80\n",
      "interactive 136\n",
      "cbook 80\n",
      "dedent 136\n",
      "deprecated 136\n",
      "silent_list 1056\n",
      "warn_deprecated 136\n",
      "docstring 80\n",
      "FigureCanvasBase 1464\n",
      "Figure 888\n",
      "figaspect 136\n",
      "GridSpec 1464\n",
      "rcParams 9336\n",
      "rcParamsDefault 9336\n",
      "get_backend 136\n",
      "rcParamsOrig 9336\n",
      "rc_context 136\n",
      "getp 136\n",
      "get 136\n",
      "Artist 1056\n",
      "Axes 1056\n",
      "Subplot 5520\n",
      "PolarAxes 1056\n",
      "mlab 80\n",
      "get_scale_docs 136\n",
      "get_scale_names 136\n",
      "cm 80\n",
      "get_cmap 136\n",
      "register_cmap 136\n",
      "Normalize 1056\n",
      "Line2D 888\n",
      "Text 3096\n",
      "Annotation 1056\n",
      "Polygon 1056\n",
      "Rectangle 3096\n",
      "Circle 1056\n",
      "Arrow 1056\n",
      "SubplotTool 1056\n",
      "Button 1056\n",
      "Slider 1056\n",
      "Widget 1056\n",
      "TickHelper 1056\n",
      "Formatter 1056\n",
      "FixedFormatter 1056\n",
      "NullFormatter 1056\n",
      "FuncFormatter 1056\n",
      "FormatStrFormatter 1056\n",
      "ScalarFormatter 1464\n",
      "LogFormatter 1056\n",
      "LogFormatterExponent 1056\n",
      "LogFormatterMathtext 1056\n",
      "Locator 1056\n",
      "IndexLocator 1056\n",
      "FixedLocator 1056\n",
      "NullLocator 1056\n",
      "LinearLocator 1056\n",
      "LogLocator 1056\n",
      "AutoLocator 1184\n",
      "MultipleLocator 1056\n",
      "MaxNLocator 1056\n",
      "pylab_setup 136\n",
      "install_repl_displayhook 136\n",
      "uninstall_repl_displayhook 136\n",
      "draw_all 64\n",
      "set_loglevel 136\n",
      "findobj 136\n",
      "switch_backend 136\n",
      "show 136\n",
      "isinteractive 136\n",
      "ioff 136\n",
      "ion 136\n",
      "pause 136\n",
      "rc 136\n",
      "rcdefaults 136\n",
      "gci 136\n",
      "setp 136\n",
      "xkcd 136\n",
      "figure 136\n",
      "gcf 136\n",
      "fignum_exists 136\n",
      "get_fignums 136\n",
      "get_figlabels 136\n",
      "get_current_fig_manager 136\n",
      "connect 136\n",
      "disconnect 136\n",
      "close 136\n",
      "draw 136\n",
      "savefig 136\n",
      "ginput 136\n",
      "waitforbuttonpress 136\n",
      "figtext 136\n",
      "suptitle 136\n",
      "figimage 136\n",
      "figlegend 136\n",
      "axes 136\n",
      "delaxes 136\n",
      "sca 136\n",
      "gca 136\n",
      "subplot 136\n",
      "subplots 136\n",
      "subplot2grid 136\n",
      "twinx 136\n",
      "twiny 136\n",
      "subplots_adjust 136\n",
      "subplot_tool 136\n",
      "tight_layout 136\n",
      "box 136\n",
      "xlim 136\n",
      "ylim 136\n",
      "xticks 136\n",
      "yticks 136\n",
      "rgrids 136\n",
      "thetagrids 136\n",
      "plotting 136\n",
      "get_plot_commands 136\n",
      "colormaps 136\n",
      "colorbar 136\n",
      "clim 136\n",
      "set_cmap 136\n",
      "imread 136\n",
      "imsave 136\n",
      "matshow 136\n",
      "polar 136\n",
      "plotfile 136\n",
      "new_figure_manager 64\n",
      "draw_if_interactive 136\n",
      "acorr 136\n",
      "angle_spectrum 136\n",
      "annotate 136\n",
      "arrow 136\n",
      "autoscale 136\n",
      "axhline 136\n",
      "axhspan 136\n",
      "axis 136\n",
      "axvline 136\n",
      "axvspan 136\n",
      "bar 136\n",
      "barbs 136\n",
      "barh 136\n",
      "boxplot 136\n",
      "broken_barh 136\n",
      "cla 136\n",
      "clabel 136\n",
      "cohere 136\n",
      "contour 136\n",
      "contourf 136\n",
      "csd 136\n",
      "errorbar 136\n",
      "eventplot 136\n",
      "fill 136\n",
      "fill_between 136\n",
      "fill_betweenx 136\n",
      "grid 136\n",
      "hexbin 136\n",
      "hist 136\n",
      "hist2d 136\n",
      "hlines 136\n",
      "imshow 136\n",
      "legend 136\n",
      "locator_params 136\n",
      "loglog 136\n",
      "magnitude_spectrum 136\n",
      "margins 136\n",
      "minorticks_off 136\n",
      "minorticks_on 136\n",
      "pcolor 136\n",
      "pcolormesh 136\n",
      "phase_spectrum 136\n",
      "pie 136\n",
      "plot 136\n",
      "plot_date 136\n",
      "psd 136\n",
      "quiver 136\n",
      "quiverkey 136\n",
      "scatter 136\n",
      "semilogx 136\n",
      "semilogy 136\n",
      "specgram 136\n",
      "spy 136\n",
      "stackplot 136\n",
      "stem 136\n",
      "step 136\n",
      "streamplot 136\n",
      "table 136\n",
      "text 136\n",
      "tick_params 136\n",
      "ticklabel_format 136\n",
      "tricontour 136\n",
      "tricontourf 136\n",
      "tripcolor 136\n",
      "triplot 136\n",
      "violinplot 136\n",
      "vlines 136\n",
      "xcorr 136\n",
      "sci 136\n",
      "title 136\n",
      "xlabel 136\n",
      "ylabel 136\n",
      "xscale 136\n",
      "yscale 136\n",
      "autumn 136\n",
      "bone 136\n",
      "cool 136\n",
      "copper 136\n",
      "flag 136\n",
      "gray 136\n",
      "hot 136\n",
      "hsv 136\n",
      "jet 136\n",
      "pink 136\n",
      "prism 136\n",
      "spring 136\n",
      "summer 136\n",
      "winter 136\n",
      "magma 136\n",
      "inferno 136\n",
      "plasma 136\n",
      "viridis 136\n",
      "nipy_spectral 136\n",
      "_i46 112\n",
      "original 32\n",
      "_46 32\n",
      "_i47 331\n",
      "_i48 2303\n",
      "_48 32\n",
      "_i49 948\n",
      "_49 32\n",
      "_i50 948\n",
      "_50 32\n",
      "_i51 969\n",
      "_i52 331\n",
      "_i53 2303\n",
      "_53 32\n",
      "_i54 948\n",
      "_54 32\n",
      "_i55 948\n",
      "_55 32\n",
      "_i56 989\n",
      "puntaje_bwknn_final 32\n",
      "_56 32\n",
      "_i57 351\n",
      "fig 56\n",
      "ax 56\n",
      "_i58 104\n",
      "puntaje_fwknn_final 32\n",
      "_58 136\n",
      "_i59 107\n",
      "_59 32\n",
      "_i60 355\n",
      "df_histo 155\n",
      "_i61 147\n",
      "_i62 147\n"
     ]
    }
   ],
   "source": [
    "local_vars = list(locals().items())\n",
    "for var, obj in local_vars:\n",
    "    print(var, sys.getsizeof(obj))"
   ]
  },
  {
   "cell_type": "code",
   "execution_count": 60,
   "metadata": {
    "ExecuteTime": {
     "end_time": "2020-07-06T23:34:16.192977Z",
     "start_time": "2020-07-06T23:34:16.077090Z"
    }
   },
   "outputs": [
    {
     "data": {
      "image/png": "[encoded data removed]",
      "text/plain": [
       "<Figure size 432x288 with 1 Axes>"
      ]
     },
     "metadata": {
      "needs_background": "light"
     },
     "output_type": "display_data"
    }
   ],
   "source": [
    "fig, ax = subplots()\n",
    "df_histo = pd.DataFrame({'Data original':original, 'Forward Selection':puntaje_fwknn_final,'Backward Selection':puntaje_bwknn_final}, index=['Tasa de aciertos'])\n",
    "df_histo.plot(kind='bar', ax=ax)\n",
    "ax.legend([\"Data original\", \"Forward Selection\",\"Backward Selection\"],loc=3, fontsize=12);"
   ]
  },
  {
   "cell_type": "code",
   "execution_count": null,
   "metadata": {},
   "outputs": [],
   "source": []
  }
 ],
 "metadata": {
  "kernelspec": {
   "display_name": "Python 3",
   "language": "python",
   "name": "python3"
  },
  "language_info": {
   "codemirror_mode": {
    "name": "ipython",
    "version": 3
   },
   "file_extension": ".py",
   "mimetype": "text/x-python",
   "name": "python",
   "nbconvert_exporter": "python",
   "pygments_lexer": "ipython3",
   "version": "3.7.6"
  }
 },
 "nbformat": 4,
 "nbformat_minor": 4
}
